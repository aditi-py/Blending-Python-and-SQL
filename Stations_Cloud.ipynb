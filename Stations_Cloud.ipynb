{
  "cells": [
    {
      "cell_type": "markdown",
      "metadata": {
        "id": "mfJ9ZY9facAT"
      },
      "source": [
        "# Project 2: Getting Proficient!\n",
        "------------------------------------------------"
      ]
    },
    {
      "cell_type": "markdown",
      "metadata": {
        "id": "3buj_nHFazca"
      },
      "source": [
        "The purpose of this project is to master the topics of:\n",
        "* blending Python and SQL\n",
        "* using pandas UDFs\n",
        "* writing window functions"
      ]
    },
    {
      "cell_type": "markdown",
      "metadata": {
        "id": "XE5pkJcY7W71"
      },
      "source": [
        "Some of the earlier questions will be relatively straight-foward, but the last question or two will have many different approaches available. Make sure to check your work and show that your approach actually did what you wanted it to do!"
      ]
    },
    {
      "cell_type": "markdown",
      "metadata": {
        "id": "Dhpreipsc1St"
      },
      "source": [
        "# Install Spark"
      ]
    },
    {
      "cell_type": "code",
      "execution_count": 1,
      "metadata": {
        "colab": {
          "base_uri": "https://localhost:8080/"
        },
        "id": "4EKbEIEpc2lf",
        "outputId": "f1d3bda0-cef1-436d-d8b5-ba98b52997a8"
      },
      "outputs": [
        {
          "output_type": "stream",
          "name": "stdout",
          "text": [
            "Collecting pyspark\n",
            "  Downloading pyspark-3.5.0.tar.gz (316.9 MB)\n",
            "\u001b[2K     \u001b[90m━━━━━━━━━━━━━━━━━━━━━━━━━━━━━━━━━━━━━━━━\u001b[0m \u001b[32m316.9/316.9 MB\u001b[0m \u001b[31m2.6 MB/s\u001b[0m eta \u001b[36m0:00:00\u001b[0m\n",
            "\u001b[?25h  Preparing metadata (setup.py) ... \u001b[?25l\u001b[?25hdone\n",
            "Requirement already satisfied: py4j==0.10.9.7 in /usr/local/lib/python3.10/dist-packages (from pyspark) (0.10.9.7)\n",
            "Building wheels for collected packages: pyspark\n",
            "  Building wheel for pyspark (setup.py) ... \u001b[?25l\u001b[?25hdone\n",
            "  Created wheel for pyspark: filename=pyspark-3.5.0-py2.py3-none-any.whl size=317425345 sha256=1fb4e95b5f3b334ae6bd4c7cb1f36cc251d39a960caf89f6a3ead0caae4f53e3\n",
            "  Stored in directory: /root/.cache/pip/wheels/41/4e/10/c2cf2467f71c678cfc8a6b9ac9241e5e44a01940da8fbb17fc\n",
            "Successfully built pyspark\n",
            "Installing collected packages: pyspark\n",
            "Successfully installed pyspark-3.5.0\n"
          ]
        }
      ],
      "source": [
        "!pip install pyspark"
      ]
    },
    {
      "cell_type": "markdown",
      "metadata": {
        "id": "Z2Fa2V6wc4h0"
      },
      "source": [
        "## Start a Spark Session"
      ]
    },
    {
      "cell_type": "code",
      "execution_count": 2,
      "metadata": {
        "id": "zhDjdvLUc7RG"
      },
      "outputs": [],
      "source": [
        "from pyspark.sql import SparkSession\n",
        "spark = SparkSession.builder\\\n",
        "        .appName(\"Project2\")\\\n",
        "        .getOrCreate()"
      ]
    },
    {
      "cell_type": "code",
      "execution_count": 3,
      "metadata": {
        "id": "XZSU9NOpdPYY"
      },
      "outputs": [],
      "source": [
        "# some useful functions\n",
        "import pyspark.sql.functions as F\n",
        "import pyspark.sql.types as T"
      ]
    },
    {
      "cell_type": "markdown",
      "metadata": {
        "id": "0a5GrItYbX9X"
      },
      "source": [
        "# Read the Data\n",
        "We will use the GSOD dataset from Chapter 10."
      ]
    },
    {
      "cell_type": "code",
      "execution_count": 5,
      "metadata": {
        "id": "QhRSYeCBcmUr",
        "colab": {
          "base_uri": "https://localhost:8080/"
        },
        "outputId": "3c3d3db2-0cd5-446f-cba3-08de1999e083"
      },
      "outputs": [
        {
          "output_type": "stream",
          "name": "stdout",
          "text": [
            "Mounted at /content/drive\n"
          ]
        }
      ],
      "source": [
        "# mount your Drive and update your Path\n",
        "import os\n",
        "os.getcwd()\n",
        "from google.colab import drive\n",
        "drive.mount('/content/drive')"
      ]
    },
    {
      "cell_type": "code",
      "execution_count": 6,
      "metadata": {
        "id": "BBrxXGdy9X8z"
      },
      "outputs": [],
      "source": [
        "myDir = '/content/drive/MyDrive/Cloud_Computing/Material/'\n",
        "gsod1 = spark.read.parquet(myDir + 'gsod1.parquet')\n",
        "gsod2 = spark.read.parquet(myDir + 'gsod2.parquet')\n",
        "gsod3 = spark.read.parquet(myDir + 'gsod3.parquet')\n",
        "gsod4 = spark.read.parquet(myDir + 'gsod4.parquet')"
      ]
    },
    {
      "cell_type": "code",
      "execution_count": 7,
      "metadata": {
        "id": "qi9C_Fyzp55x"
      },
      "outputs": [],
      "source": [
        "gsod = (\n",
        " gsod1.select(gsod4.columns)\n",
        " .union(gsod2.select(gsod4.columns))\n",
        " .union(gsod3.select(gsod4.columns))\n",
        " .union(gsod4)\n",
        ")"
      ]
    },
    {
      "cell_type": "code",
      "execution_count": 8,
      "metadata": {
        "id": "kkJzKtAabery",
        "colab": {
          "base_uri": "https://localhost:8080/"
        },
        "outputId": "303e4cb6-d301-467d-db0e-d842ac675222"
      },
      "outputs": [
        {
          "output_type": "stream",
          "name": "stdout",
          "text": [
            "12460217 32\n"
          ]
        }
      ],
      "source": [
        "# rows and columns\n",
        "# 12M rows and 32 columns\n",
        "print(gsod.count(), len(gsod.columns))"
      ]
    },
    {
      "cell_type": "code",
      "execution_count": 9,
      "metadata": {
        "colab": {
          "base_uri": "https://localhost:8080/"
        },
        "id": "09Sqp-TedZtj",
        "outputId": "a5bd9745-8731-4fe9-b973-9a759543165a"
      },
      "outputs": [
        {
          "output_type": "stream",
          "name": "stdout",
          "text": [
            "root\n",
            " |-- stn: string (nullable = true)\n",
            " |-- wban: string (nullable = true)\n",
            " |-- year: string (nullable = true)\n",
            " |-- mo: string (nullable = true)\n",
            " |-- da: string (nullable = true)\n",
            " |-- temp: double (nullable = true)\n",
            " |-- count_temp: long (nullable = true)\n",
            " |-- dewp: double (nullable = true)\n",
            " |-- count_dewp: long (nullable = true)\n",
            " |-- slp: double (nullable = true)\n",
            " |-- count_slp: long (nullable = true)\n",
            " |-- stp: double (nullable = true)\n",
            " |-- count_stp: long (nullable = true)\n",
            " |-- visib: double (nullable = true)\n",
            " |-- count_visib: long (nullable = true)\n",
            " |-- wdsp: string (nullable = true)\n",
            " |-- count_wdsp: string (nullable = true)\n",
            " |-- mxpsd: string (nullable = true)\n",
            " |-- gust: double (nullable = true)\n",
            " |-- max: double (nullable = true)\n",
            " |-- flag_max: string (nullable = true)\n",
            " |-- min: double (nullable = true)\n",
            " |-- flag_min: string (nullable = true)\n",
            " |-- prcp: double (nullable = true)\n",
            " |-- flag_prcp: string (nullable = true)\n",
            " |-- sndp: double (nullable = true)\n",
            " |-- fog: string (nullable = true)\n",
            " |-- rain_drizzle: string (nullable = true)\n",
            " |-- snow_ice_pellets: string (nullable = true)\n",
            " |-- hail: string (nullable = true)\n",
            " |-- thunder: string (nullable = true)\n",
            " |-- tornado_funnel_cloud: string (nullable = true)\n",
            "\n"
          ]
        }
      ],
      "source": [
        "# schema\n",
        "gsod.printSchema()"
      ]
    },
    {
      "cell_type": "code",
      "execution_count": 10,
      "metadata": {
        "colab": {
          "base_uri": "https://localhost:8080/"
        },
        "id": "fmGukFRTda7y",
        "outputId": "4bcfdd49-0c7e-4349-e0b6-5995896d09b8"
      },
      "outputs": [
        {
          "output_type": "stream",
          "name": "stdout",
          "text": [
            "+------+-----+----+---+---+----+----------+------+----------+------+---------+------+---------+-----+-----------+----+----------+-----+-----+----+--------+----+--------+----+---------+-----+---+------------+----------------+----+-------+--------------------+\n",
            "|stn   |wban |year|mo |da |temp|count_temp|dewp  |count_dewp|slp   |count_slp|stp   |count_stp|visib|count_visib|wdsp|count_wdsp|mxpsd|gust |max |flag_max|min |flag_min|prcp|flag_prcp|sndp |fog|rain_drizzle|snow_ice_pellets|hail|thunder|tornado_funnel_cloud|\n",
            "+------+-----+----+---+---+----+----------+------+----------+------+---------+------+---------+-----+-----------+----+----------+-----+-----+----+--------+----+--------+----+---------+-----+---+------------+----------------+----+-------+--------------------+\n",
            "|998258|99999|2017|03 |08 |32.9|11        |9999.9|0         |1009.2|11       |9999.9|0        |999.9|0          |5.6 |11        |13.0 |999.9|35.6|*       |30.7|*       |0.0 |I        |999.9|0  |0           |0               |0   |0      |0                   |\n",
            "|997194|99999|2017|10 |23 |52.1|13        |9999.9|0         |1002.3|13       |963.8 |13       |999.9|0          |2.8 |7         |5.8  |999.9|55.9|*       |46.9|*       |0.0 |I        |999.9|0  |0           |0               |0   |0      |0                   |\n",
            "|995011|99999|2017|03 |04 |72.9|10        |9999.9|0         |1019.9|10       |9999.9|0        |999.9|0          |18.8|10        |19.4 |999.9|73.2|*       |72.5|*       |0.0 |I        |999.9|0  |0           |0               |0   |0      |0                   |\n",
            "|998012|99999|2017|09 |01 |60.7|24        |9999.9|0         |1022.3|15       |9999.9|0        |999.9|0          |3.6 |15        |7.0  |999.9|72.0|*       |49.5|*       |0.0 |I        |999.9|0  |0           |0               |0   |0      |0                   |\n",
            "|996080|99999|2017|05 |02 |58.4|12        |9999.9|0         |1017.2|12       |1017.0|12       |999.9|0          |14.2|12        |21.4 |999.9|59.5|*       |56.1|*       |0.0 |I        |999.9|0  |0           |0               |0   |0      |0                   |\n",
            "|996170|99999|2017|08 |27 |75.6|14        |9999.9|0         |1016.6|14       |1016.4|14       |999.9|0          |3.7 |14        |5.8  |999.9|77.4|*       |73.2|*       |0.0 |I        |999.9|0  |0           |0               |0   |0      |0                   |\n",
            "|998166|99999|2017|05 |29 |64.1|24        |9999.9|0         |1008.5|14       |9999.9|0        |999.9|0          |9.7 |14        |18.1 |999.9|70.2|*       |61.5|*       |0.0 |I        |999.9|0  |0           |0               |0   |0      |0                   |\n",
            "|995011|99999|2017|02 |07 |73.8|13        |9999.9|0         |1021.3|13       |9999.9|0        |999.9|0          |17.0|13        |19.4 |999.9|74.5|*       |73.0|*       |0.0 |I        |999.9|0  |0           |0               |0   |0      |0                   |\n",
            "|869830|99999|2017|08 |18 |48.2|10        |9999.9|0         |1034.3|10       |994.0 |10       |999.9|0          |0.0 |10        |999.9|999.9|55.8|        |42.1|        |0.0 |I        |999.9|0  |0           |0               |0   |0      |0                   |\n",
            "|996170|99999|2017|05 |09 |58.4|14        |9999.9|0         |1011.6|14       |1011.4|14       |999.9|0          |13.6|14        |21.4 |999.9|59.7|*       |56.7|*       |0.0 |I        |999.9|0  |0           |0               |0   |0      |0                   |\n",
            "+------+-----+----+---+---+----+----------+------+----------+------+---------+------+---------+-----+-----------+----+----------+-----+-----+----+--------+----+--------+----+---------+-----+---+------------+----------------+----+-------+--------------------+\n",
            "only showing top 10 rows\n",
            "\n"
          ]
        }
      ],
      "source": [
        "# look at the first few rows\n",
        "gsod.show(10, truncate=False)"
      ]
    },
    {
      "cell_type": "markdown",
      "metadata": {
        "id": "lkZ4XJp3a9x6"
      },
      "source": [
        "# 🔵 (30 pts, 5 pts each) Blending Python and SQL"
      ]
    },
    {
      "cell_type": "code",
      "source": [
        "# gsod is the dataframe , read as table for sql\n",
        "gsod.createOrReplaceTempView(\"gsod_table\")"
      ],
      "metadata": {
        "id": "MB_XW6UwwqAP"
      },
      "execution_count": 11,
      "outputs": []
    },
    {
      "cell_type": "markdown",
      "metadata": {
        "id": "jaTGQFDudrro"
      },
      "source": [
        "### Select all rows where `temp` is greater than 90 and where windspeed is greater than 20."
      ]
    },
    {
      "cell_type": "code",
      "source": [
        "spark.sql(\n",
        " \"select * from gsod_table where (temp > 90 AND wdsp > 20)\"\n",
        ").show(10, False)"
      ],
      "metadata": {
        "colab": {
          "base_uri": "https://localhost:8080/"
        },
        "id": "C112kjvMwscN",
        "outputId": "ae8254ff-625e-4bc2-97a6-a6563c4662bb"
      },
      "execution_count": 12,
      "outputs": [
        {
          "output_type": "stream",
          "name": "stdout",
          "text": [
            "+------+-----+----+---+---+-----+----------+------+----------+------+---------+------+---------+-----+-----------+-----+----------+-----+-----+-----+--------+----+--------+----+---------+-----+---+------------+----------------+----+-------+--------------------+\n",
            "|stn   |wban |year|mo |da |temp |count_temp|dewp  |count_dewp|slp   |count_slp|stp   |count_stp|visib|count_visib|wdsp |count_wdsp|mxpsd|gust |max  |flag_max|min |flag_min|prcp|flag_prcp|sndp |fog|rain_drizzle|snow_ice_pellets|hail|thunder|tornado_funnel_cloud|\n",
            "+------+-----+----+---+---+-----+----------+------+----------+------+---------+------+---------+-----+-----------+-----+----------+-----+-----+-----+--------+----+--------+----+---------+-----+---+------------+----------------+----+-------+--------------------+\n",
            "|999999|53139|2017|05 |29 |95.4 |24        |9999.9|0         |9999.9|0        |9999.9|0        |999.9|0          |999.9|0         |999.9|999.9|109.4|        |79.2|        |0.0 |G        |999.9|0  |0           |0               |0   |0      |0                   |\n",
            "|999999|53139|2017|06 |04 |102.0|24        |9999.9|0         |9999.9|0        |9999.9|0        |999.9|0          |999.9|0         |999.9|999.9|113.7|        |88.3|        |0.0 |G        |999.9|0  |0           |0               |0   |0      |0                   |\n",
            "|999999|53139|2017|05 |06 |92.2 |24        |9999.9|0         |9999.9|0        |9999.9|0        |999.9|0          |999.9|0         |999.9|999.9|103.3|        |79.2|        |0.0 |G        |999.9|0  |0           |0               |0   |0      |0                   |\n",
            "|999999|53154|2017|07 |07 |102.5|24        |9999.9|0         |9999.9|0        |9999.9|0        |999.9|0          |999.9|0         |999.9|999.9|117.5|*       |84.2|        |0.0 |G        |999.9|0  |0           |0               |0   |0      |0                   |\n",
            "|999999|53136|2017|07 |31 |91.3 |24        |9999.9|0         |9999.9|0        |9999.9|0        |999.9|0          |999.9|0         |999.9|999.9|105.6|        |77.9|        |0.0 |G        |999.9|0  |0           |0               |0   |0      |0                   |\n",
            "|999999|53139|2017|07 |26 |101.5|24        |9999.9|0         |9999.9|0        |9999.9|0        |999.9|0          |999.9|0         |999.9|999.9|111.4|*       |93.7|        |0.0 |G        |999.9|0  |0           |0               |0   |0      |0                   |\n",
            "|999999|53154|2017|07 |20 |95.2 |24        |9999.9|0         |9999.9|0        |9999.9|0        |999.9|0          |999.9|0         |999.9|999.9|105.4|        |86.9|        |0.0 |G        |999.9|0  |0           |0               |0   |0      |0                   |\n",
            "|999999|53131|2017|06 |21 |99.6 |24        |9999.9|0         |9999.9|0        |9999.9|0        |999.9|0          |999.9|0         |999.9|999.9|113.0|        |81.1|        |0.0 |G        |999.9|0  |0           |0               |0   |0      |0                   |\n",
            "|999999|53139|2017|08 |26 |104.2|24        |9999.9|0         |9999.9|0        |9999.9|0        |999.9|0          |999.9|0         |999.9|999.9|116.6|        |88.9|        |0.0 |G        |999.9|0  |0           |0               |0   |0      |0                   |\n",
            "|999999|53154|2017|07 |29 |93.5 |24        |9999.9|0         |9999.9|0        |9999.9|0        |999.9|0          |999.9|0         |999.9|999.9|104.9|        |85.5|        |0.0 |G        |999.9|0  |0           |0               |0   |0      |0                   |\n",
            "+------+-----+----+---+---+-----+----------+------+----------+------+---------+------+---------+-----+-----------+-----+----------+-----+-----+-----+--------+----+--------+----+---------+-----+---+------------+----------------+----+-------+--------------------+\n",
            "only showing top 10 rows\n",
            "\n"
          ]
        }
      ]
    },
    {
      "cell_type": "markdown",
      "metadata": {
        "id": "_OxC1KCbeBls"
      },
      "source": [
        "### Print the count of rows and show first 10 rows to confirm your answer."
      ]
    },
    {
      "cell_type": "code",
      "source": [
        "# count the total number of rows satisfying the condition\n",
        "spark.sql(\n",
        " \"select count(*) from gsod_table where (temp > 90 AND wdsp > 20)\"\n",
        ").show(10)"
      ],
      "metadata": {
        "colab": {
          "base_uri": "https://localhost:8080/"
        },
        "id": "yeho3HTnwuny",
        "outputId": "582a506f-2954-4abf-995a-b38d166eb060"
      },
      "execution_count": 13,
      "outputs": [
        {
          "output_type": "stream",
          "name": "stdout",
          "text": [
            "+--------+\n",
            "|count(1)|\n",
            "+--------+\n",
            "|    3741|\n",
            "+--------+\n",
            "\n"
          ]
        }
      ]
    },
    {
      "cell_type": "code",
      "source": [
        "# display 10 rows satisfying the above condition\n",
        "spark.sql(\n",
        " \"select * from gsod_table where (temp > 90 AND wdsp > 20)\"\n",
        ").show(10)"
      ],
      "metadata": {
        "colab": {
          "base_uri": "https://localhost:8080/"
        },
        "id": "2vyAODUzwyqH",
        "outputId": "daa81a6c-6e19-4aa1-d609-64dda1e43dd6"
      },
      "execution_count": 14,
      "outputs": [
        {
          "output_type": "stream",
          "name": "stdout",
          "text": [
            "+------+-----+----+---+---+-----+----------+------+----------+------+---------+------+---------+-----+-----------+-----+----------+-----+-----+-----+--------+----+--------+----+---------+-----+---+------------+----------------+----+-------+--------------------+\n",
            "|   stn| wban|year| mo| da| temp|count_temp|  dewp|count_dewp|   slp|count_slp|   stp|count_stp|visib|count_visib| wdsp|count_wdsp|mxpsd| gust|  max|flag_max| min|flag_min|prcp|flag_prcp| sndp|fog|rain_drizzle|snow_ice_pellets|hail|thunder|tornado_funnel_cloud|\n",
            "+------+-----+----+---+---+-----+----------+------+----------+------+---------+------+---------+-----+-----------+-----+----------+-----+-----+-----+--------+----+--------+----+---------+-----+---+------------+----------------+----+-------+--------------------+\n",
            "|999999|53139|2017| 05| 29| 95.4|        24|9999.9|         0|9999.9|        0|9999.9|        0|999.9|          0|999.9|         0|999.9|999.9|109.4|        |79.2|        | 0.0|        G|999.9|  0|           0|               0|   0|      0|                   0|\n",
            "|999999|53139|2017| 06| 04|102.0|        24|9999.9|         0|9999.9|        0|9999.9|        0|999.9|          0|999.9|         0|999.9|999.9|113.7|        |88.3|        | 0.0|        G|999.9|  0|           0|               0|   0|      0|                   0|\n",
            "|999999|53139|2017| 05| 06| 92.2|        24|9999.9|         0|9999.9|        0|9999.9|        0|999.9|          0|999.9|         0|999.9|999.9|103.3|        |79.2|        | 0.0|        G|999.9|  0|           0|               0|   0|      0|                   0|\n",
            "|999999|53154|2017| 07| 07|102.5|        24|9999.9|         0|9999.9|        0|9999.9|        0|999.9|          0|999.9|         0|999.9|999.9|117.5|       *|84.2|        | 0.0|        G|999.9|  0|           0|               0|   0|      0|                   0|\n",
            "|999999|53136|2017| 07| 31| 91.3|        24|9999.9|         0|9999.9|        0|9999.9|        0|999.9|          0|999.9|         0|999.9|999.9|105.6|        |77.9|        | 0.0|        G|999.9|  0|           0|               0|   0|      0|                   0|\n",
            "|999999|53139|2017| 07| 26|101.5|        24|9999.9|         0|9999.9|        0|9999.9|        0|999.9|          0|999.9|         0|999.9|999.9|111.4|       *|93.7|        | 0.0|        G|999.9|  0|           0|               0|   0|      0|                   0|\n",
            "|999999|53154|2017| 07| 20| 95.2|        24|9999.9|         0|9999.9|        0|9999.9|        0|999.9|          0|999.9|         0|999.9|999.9|105.4|        |86.9|        | 0.0|        G|999.9|  0|           0|               0|   0|      0|                   0|\n",
            "|999999|53131|2017| 06| 21| 99.6|        24|9999.9|         0|9999.9|        0|9999.9|        0|999.9|          0|999.9|         0|999.9|999.9|113.0|        |81.1|        | 0.0|        G|999.9|  0|           0|               0|   0|      0|                   0|\n",
            "|999999|53139|2017| 08| 26|104.2|        24|9999.9|         0|9999.9|        0|9999.9|        0|999.9|          0|999.9|         0|999.9|999.9|116.6|        |88.9|        | 0.0|        G|999.9|  0|           0|               0|   0|      0|                   0|\n",
            "|999999|53154|2017| 07| 29| 93.5|        24|9999.9|         0|9999.9|        0|9999.9|        0|999.9|          0|999.9|         0|999.9|999.9|104.9|        |85.5|        | 0.0|        G|999.9|  0|           0|               0|   0|      0|                   0|\n",
            "+------+-----+----+---+---+-----+----------+------+----------+------+---------+------+---------+-----+-----------+-----+----------+-----+-----+-----+--------+----+--------+----+---------+-----+---+------------+----------------+----+-------+--------------------+\n",
            "only showing top 10 rows\n",
            "\n"
          ]
        }
      ]
    },
    {
      "cell_type": "markdown",
      "metadata": {
        "id": "kC4oguZ0hn8o"
      },
      "source": [
        "### How many unique stations met the condition of temp>90 and wdsp>20?"
      ]
    },
    {
      "cell_type": "code",
      "source": [
        "spark.sql(\n",
        " \"select COUNT(DISTINCT stn) from gsod_table where (temp > 90 AND wdsp > 20)\"\n",
        ").show()"
      ],
      "metadata": {
        "colab": {
          "base_uri": "https://localhost:8080/"
        },
        "id": "Z3GgAesdw3lv",
        "outputId": "1de2b30e-29b0-4707-8001-869e53561fb8"
      },
      "execution_count": 15,
      "outputs": [
        {
          "output_type": "stream",
          "name": "stdout",
          "text": [
            "+-------------------+\n",
            "|count(DISTINCT stn)|\n",
            "+-------------------+\n",
            "|                283|\n",
            "+-------------------+\n",
            "\n"
          ]
        }
      ]
    },
    {
      "cell_type": "markdown",
      "metadata": {
        "id": "-Qtkqf_HfNcF"
      },
      "source": [
        "### Find the top 10 stations (`stn`) where the condition is true."
      ]
    },
    {
      "cell_type": "markdown",
      "source": [
        "CHECK IF RANK NEEDED?"
      ],
      "metadata": {
        "id": "50YPwvT7MSUf"
      }
    },
    {
      "cell_type": "code",
      "source": [
        "from pyspark.sql.window import Window\n",
        "\n",
        "windowSpec = Window.partitionBy(\"stn\").orderBy(F.desc(\"wdsp\"), F.desc(\"temp\"))"
      ],
      "metadata": {
        "id": "P1fuvgrWw5x2"
      },
      "execution_count": 16,
      "outputs": []
    },
    {
      "cell_type": "code",
      "source": [
        "# filter for rows where temp > 90 and wdsp > 20\n",
        "filtered_df = gsod.filter((F.col('temp') > 90) & (F.col('wdsp') > 20))\n",
        "\n",
        "# calculate rank within each stn partition\n",
        "ranked_df = filtered_df.withColumn('rank', F.rank().over(windowSpec))\n",
        "\n",
        "# calculate average rank by stn\n",
        "result_df = ranked_df.select('stn', 'rank').groupBy('stn').agg(F.avg('rank').alias('rank')).orderBy('rank')\n",
        "\n",
        "# display result\n",
        "result_df.show(10)"
      ],
      "metadata": {
        "colab": {
          "base_uri": "https://localhost:8080/"
        },
        "id": "wLj7WP9WZxPX",
        "outputId": "8edd7e78-2e7f-4d21-f0ff-3afdb91a9258"
      },
      "execution_count": 17,
      "outputs": [
        {
          "output_type": "stream",
          "name": "stdout",
          "text": [
            "+------+----+\n",
            "|   stn|rank|\n",
            "+------+----+\n",
            "|368700| 1.0|\n",
            "|403600| 1.0|\n",
            "|377870| 1.0|\n",
            "|355220| 1.0|\n",
            "|381110| 1.0|\n",
            "|162600| 1.0|\n",
            "|382021| 1.0|\n",
            "|368210| 1.0|\n",
            "|382620| 1.0|\n",
            "|368060| 1.0|\n",
            "+------+----+\n",
            "only showing top 10 rows\n",
            "\n"
          ]
        }
      ]
    },
    {
      "cell_type": "markdown",
      "metadata": {
        "id": "AUrgRfHEifsz"
      },
      "source": [
        "### Where is the top station (that is not 999999)?\n",
        "Below is the list of all GSOD stations - Google the location and let me know where it is by writing your answer and embedding a picture!"
      ]
    },
    {
      "cell_type": "markdown",
      "metadata": {
        "id": "IUHDzuiHsazP"
      },
      "source": [
        "Here is a list of all the GSOD stations:\n",
        "* http://iridl.ldeo.columbia.edu/SOURCES/.NOAA/.NCEP/.CPC/.GSOD/.MONTHLY/.Name/IWMO+exch+table-+text+text+skipanyNaN+-table+.html"
      ]
    },
    {
      "cell_type": "markdown",
      "metadata": {
        "id": "RGZXsHS0inIY"
      },
      "source": [
        "**Answer:** ABC is STATION XYZ - it is hot and windy there!\n",
        "\n",
        "(embed a picture here from Google Images or Wikipedia)"
      ]
    },
    {
      "cell_type": "markdown",
      "source": [
        "Answer: Top stations is 368700.\n",
        "As found from the above query, the top station thta is not 999999 is 406220 and its location is Almaty.\n",
        "\n",
        "Almaty, Kazakhstan's largest metropolis, is set in the foothills of the Trans-Ili Alatau mountains.\n",
        "\n",
        "It is hot and sunny there.\n"
      ],
      "metadata": {
        "id": "Jzn7bAauJYtT"
      }
    },
    {
      "cell_type": "markdown",
      "source": [
        "![Panfilov_Street.jpg](data:image/jpeg;base64,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)"
      ],
      "metadata": {
        "id": "c-jRNMrhJt4Q"
      }
    },
    {
      "cell_type": "markdown",
      "metadata": {
        "id": "tWRbXnEQjeoU"
      },
      "source": [
        "### What month/year was the hottest and windiest at that particular station?"
      ]
    },
    {
      "cell_type": "code",
      "source": [
        "window_Spec = Window.partitionBy(\"temp, wdsp\").orderBy(F.desc(\"wdsp\"), F.desc(\"temp\"))"
      ],
      "metadata": {
        "id": "fT37XaB9bkF9"
      },
      "execution_count": 18,
      "outputs": []
    },
    {
      "cell_type": "code",
      "source": [
        "# filter for rows where temp > 90, wdsp > 20, and stn = 368700\n",
        "filtered_df = gsod.filter((F.col('temp') > 90) & (F.col('wdsp') > 20) & (F.col('stn') == 368700))\n",
        "\n",
        "# calculate rank within each stn partition\n",
        "ranked_df = filtered_df.withColumn('rank', F.rank().over(windowSpec))\n",
        "\n",
        "# order by rank and select the first row\n",
        "result_df = ranked_df.orderBy('rank').select('mo', 'year').limit(1)\n",
        "\n",
        "# display result\n",
        "result_df.show()"
      ],
      "metadata": {
        "colab": {
          "base_uri": "https://localhost:8080/"
        },
        "id": "RLo7wqOJbqUq",
        "outputId": "ab9fad79-8b8c-4818-eb11-6d52b34c7a2e"
      },
      "execution_count": 19,
      "outputs": [
        {
          "output_type": "stream",
          "name": "stdout",
          "text": [
            "+---+----+\n",
            "| mo|year|\n",
            "+---+----+\n",
            "| 07|2017|\n",
            "+---+----+\n",
            "\n"
          ]
        }
      ]
    },
    {
      "cell_type": "markdown",
      "metadata": {
        "id": "J8POLwzobAxl"
      },
      "source": [
        "# 🔵 (30 pts total, 10 pts each) Pandas UDFs"
      ]
    },
    {
      "cell_type": "markdown",
      "metadata": {
        "id": "1YRIe84ttOyY"
      },
      "source": [
        "## Return summary statistics of the `temp` and `wdsp` columns and note the range of values."
      ]
    },
    {
      "cell_type": "markdown",
      "metadata": {
        "id": "Effyn105wbwM"
      },
      "source": [
        "Please show the count, min 25th, 50th, 75th percentile and max value."
      ]
    },
    {
      "cell_type": "code",
      "execution_count": 20,
      "metadata": {
        "colab": {
          "base_uri": "https://localhost:8080/"
        },
        "id": "DVxNGX5-uNJo",
        "outputId": "d44caf50-005a-4d8a-c4e4-3204053c7dc1"
      },
      "outputs": [
        {
          "output_type": "stream",
          "name": "stdout",
          "text": [
            "+-------+--------+--------+\n",
            "|summary|    temp|    wdsp|\n",
            "+-------+--------+--------+\n",
            "|  count|12460217|12460217|\n",
            "|    min|  -114.7|     0.0|\n",
            "|    25%|    41.2|     3.5|\n",
            "|    50%|    58.5|     5.6|\n",
            "|    75%|    73.7|     8.7|\n",
            "|    max|   110.0|   999.9|\n",
            "+-------+--------+--------+\n",
            "\n"
          ]
        }
      ],
      "source": [
        "gsod.select(F.col('temp'), F.col('wdsp')).summary(\"count\",\"min\",\"25%\",\"50%\",\"75%\",\"max\").show()"
      ]
    },
    {
      "cell_type": "markdown",
      "metadata": {
        "id": "X_iZZ6GefdGO"
      },
      "source": [
        "It looks like there are some missing values for the wdsp column."
      ]
    },
    {
      "cell_type": "markdown",
      "metadata": {
        "id": "K_rNUqmdwJ67"
      },
      "source": [
        "Review this metadata for the units of each column:\n",
        "* https://www.ncei.noaa.gov/data/global-summary-of-the-day/doc/readme.txt\n",
        "\n",
        "```\n",
        "TEMP - Mean temperature (.1 Fahrenheit)\n",
        "DEWP - Mean dew point (.1 Fahrenheit)\n",
        "SLP - Mean sea level pressure (.1 mb)\n",
        "STP - Mean station pressure (.1 mb)\n",
        "VISIB - Mean visibility (.1 miles)\n",
        "WDSP – Mean wind speed (.1 knots)\n",
        "MXSPD - Maximum sustained wind speed (.1 knots)\n",
        "GUST - Maximum wind gust (.1 knots)\n",
        "MAX - Maximum temperature (.1 Fahrenheit)\n",
        "MIN - Minimum temperature (.1 Fahrenheit)\n",
        "PRCP - Precipitation amount (.01 inches)\n",
        "SNDP - Snow depth (.1 inches)\n",
        "```\n",
        "\n"
      ]
    },
    {
      "cell_type": "markdown",
      "metadata": {
        "id": "sNodzdNetAjq"
      },
      "source": [
        "## Write a Pandas UDF that converts temperature from F to C\n"
      ]
    },
    {
      "cell_type": "code",
      "execution_count": 21,
      "metadata": {
        "id": "AJgpRk_7Hu3E"
      },
      "outputs": [],
      "source": [
        "import pandas as pd\n",
        "@F.pandas_udf(T.DoubleType()) # this is the datatype of the output... a float\n",
        "def f_to_c(degrees: pd.Series) -> pd.Series: # it takes a series and ouptus a series\n",
        " \"\"\"Transforms Farhenheit to Celcius.\"\"\"\n",
        " return ((degrees - 32) * (5 / 9))"
      ]
    },
    {
      "cell_type": "markdown",
      "metadata": {
        "id": "QV9CcqWp89QM"
      },
      "source": [
        "Now add it as a column in `gsod`."
      ]
    },
    {
      "cell_type": "code",
      "execution_count": 22,
      "metadata": {
        "id": "bMeFPNDWx92i"
      },
      "outputs": [],
      "source": [
        "gsod = gsod.withColumn(\"temp_c\", f_to_c(F.col(\"temp\")))"
      ]
    },
    {
      "cell_type": "code",
      "execution_count": 23,
      "metadata": {
        "colab": {
          "base_uri": "https://localhost:8080/"
        },
        "id": "fI5afotcVQu7",
        "outputId": "9f990c04-6e12-4eb8-d1be-056d5bf4a228"
      },
      "outputs": [
        {
          "output_type": "stream",
          "name": "stdout",
          "text": [
            "+------+-----+----+---+---+----+----------+------+----------+------+---------+------+---------+-----+-----------+----+----------+-----+-----+----+--------+----+--------+----+---------+-----+---+------------+----------------+----+-------+--------------------+------------------+\n",
            "|stn   |wban |year|mo |da |temp|count_temp|dewp  |count_dewp|slp   |count_slp|stp   |count_stp|visib|count_visib|wdsp|count_wdsp|mxpsd|gust |max |flag_max|min |flag_min|prcp|flag_prcp|sndp |fog|rain_drizzle|snow_ice_pellets|hail|thunder|tornado_funnel_cloud|temp_c            |\n",
            "+------+-----+----+---+---+----+----------+------+----------+------+---------+------+---------+-----+-----------+----+----------+-----+-----+----+--------+----+--------+----+---------+-----+---+------------+----------------+----+-------+--------------------+------------------+\n",
            "|998258|99999|2017|03 |08 |32.9|11        |9999.9|0         |1009.2|11       |9999.9|0        |999.9|0          |5.6 |11        |13.0 |999.9|35.6|*       |30.7|*       |0.0 |I        |999.9|0  |0           |0               |0   |0      |0                   |0.4999999999999992|\n",
            "|997194|99999|2017|10 |23 |52.1|13        |9999.9|0         |1002.3|13       |963.8 |13       |999.9|0          |2.8 |7         |5.8  |999.9|55.9|*       |46.9|*       |0.0 |I        |999.9|0  |0           |0               |0   |0      |0                   |11.166666666666668|\n",
            "|995011|99999|2017|03 |04 |72.9|10        |9999.9|0         |1019.9|10       |9999.9|0        |999.9|0          |18.8|10        |19.4 |999.9|73.2|*       |72.5|*       |0.0 |I        |999.9|0  |0           |0               |0   |0      |0                   |22.722222222222225|\n",
            "|998012|99999|2017|09 |01 |60.7|24        |9999.9|0         |1022.3|15       |9999.9|0        |999.9|0          |3.6 |15        |7.0  |999.9|72.0|*       |49.5|*       |0.0 |I        |999.9|0  |0           |0               |0   |0      |0                   |15.944444444444446|\n",
            "|996080|99999|2017|05 |02 |58.4|12        |9999.9|0         |1017.2|12       |1017.0|12       |999.9|0          |14.2|12        |21.4 |999.9|59.5|*       |56.1|*       |0.0 |I        |999.9|0  |0           |0               |0   |0      |0                   |14.666666666666666|\n",
            "|996170|99999|2017|08 |27 |75.6|14        |9999.9|0         |1016.6|14       |1016.4|14       |999.9|0          |3.7 |14        |5.8  |999.9|77.4|*       |73.2|*       |0.0 |I        |999.9|0  |0           |0               |0   |0      |0                   |24.22222222222222 |\n",
            "|998166|99999|2017|05 |29 |64.1|24        |9999.9|0         |1008.5|14       |9999.9|0        |999.9|0          |9.7 |14        |18.1 |999.9|70.2|*       |61.5|*       |0.0 |I        |999.9|0  |0           |0               |0   |0      |0                   |17.833333333333332|\n",
            "|995011|99999|2017|02 |07 |73.8|13        |9999.9|0         |1021.3|13       |9999.9|0        |999.9|0          |17.0|13        |19.4 |999.9|74.5|*       |73.0|*       |0.0 |I        |999.9|0  |0           |0               |0   |0      |0                   |23.22222222222222 |\n",
            "|869830|99999|2017|08 |18 |48.2|10        |9999.9|0         |1034.3|10       |994.0 |10       |999.9|0          |0.0 |10        |999.9|999.9|55.8|        |42.1|        |0.0 |I        |999.9|0  |0           |0               |0   |0      |0                   |9.000000000000002 |\n",
            "|996170|99999|2017|05 |09 |58.4|14        |9999.9|0         |1011.6|14       |1011.4|14       |999.9|0          |13.6|14        |21.4 |999.9|59.7|*       |56.7|*       |0.0 |I        |999.9|0  |0           |0               |0   |0      |0                   |14.666666666666666|\n",
            "+------+-----+----+---+---+----+----------+------+----------+------+---------+------+---------+-----+-----------+----+----------+-----+-----+----+--------+----+--------+----+---------+-----+---+------------+----------------+----+-------+--------------------+------------------+\n",
            "only showing top 10 rows\n",
            "\n"
          ]
        }
      ],
      "source": [
        "gsod.show(10, truncate=False)"
      ]
    },
    {
      "cell_type": "markdown",
      "metadata": {
        "id": "jCT0tNePv0K_"
      },
      "source": [
        "## Write a Pandas UDF that converts `WDSP` from knots to m/s"
      ]
    },
    {
      "cell_type": "code",
      "source": [
        "# replace a specific value with 0 in the column \"wdsp\"\n",
        "gsod = gsod.withColumn(\"wdsp\", F.regexp_replace(F.col(\"wdsp\"), \"999\", \"0\"))\n",
        "\n",
        "# convert the \"cwdsp\" column to a double data type\n",
        "gsod = gsod.withColumn(\"wdsp\", F.col(\"wdsp\").cast(T.DoubleType()))"
      ],
      "metadata": {
        "id": "4q3smMzIXLlU"
      },
      "execution_count": 24,
      "outputs": []
    },
    {
      "cell_type": "code",
      "source": [
        "import pandas as pd\n",
        "\n",
        "@F.pandas_udf(T.DoubleType())\n",
        "def k_to_ms(wdsp: pd.Series) -> pd.Series:\n",
        " return wdsp * 0.514444"
      ],
      "metadata": {
        "id": "GPkj1BbOXN6y"
      },
      "execution_count": 25,
      "outputs": []
    },
    {
      "cell_type": "code",
      "source": [
        "gsod = gsod.withColumn(\"wdsp_ms\", k_to_ms(F.col(\"wdsp\")))"
      ],
      "metadata": {
        "id": "klk_JzBSXPuq"
      },
      "execution_count": 26,
      "outputs": []
    },
    {
      "cell_type": "code",
      "source": [
        "gsod.show()"
      ],
      "metadata": {
        "colab": {
          "base_uri": "https://localhost:8080/"
        },
        "id": "7xJyXW0TXRla",
        "outputId": "48b2b06b-24a4-4ce3-9d50-267637460196"
      },
      "execution_count": 27,
      "outputs": [
        {
          "output_type": "stream",
          "name": "stdout",
          "text": [
            "+------+-----+----+---+---+-----+----------+------+----------+------+---------+------+---------+-----+-----------+----+----------+-----+-----+-----+--------+------+--------+----+---------+-----+---+------------+----------------+----+-------+--------------------+------------------+------------------+\n",
            "|   stn| wban|year| mo| da| temp|count_temp|  dewp|count_dewp|   slp|count_slp|   stp|count_stp|visib|count_visib|wdsp|count_wdsp|mxpsd| gust|  max|flag_max|   min|flag_min|prcp|flag_prcp| sndp|fog|rain_drizzle|snow_ice_pellets|hail|thunder|tornado_funnel_cloud|            temp_c|           wdsp_ms|\n",
            "+------+-----+----+---+---+-----+----------+------+----------+------+---------+------+---------+-----+-----------+----+----------+-----+-----+-----+--------+------+--------+----+---------+-----+---+------------+----------------+----+-------+--------------------+------------------+------------------+\n",
            "|998258|99999|2017| 03| 08| 32.9|        11|9999.9|         0|1009.2|       11|9999.9|        0|999.9|          0| 5.6|        11| 13.0|999.9| 35.6|       *|  30.7|       *| 0.0|        I|999.9|  0|           0|               0|   0|      0|                   0|0.4999999999999992|         2.8808864|\n",
            "|997194|99999|2017| 10| 23| 52.1|        13|9999.9|         0|1002.3|       13| 963.8|       13|999.9|          0| 2.8|         7|  5.8|999.9| 55.9|       *|  46.9|       *| 0.0|        I|999.9|  0|           0|               0|   0|      0|                   0|11.166666666666668|         1.4404432|\n",
            "|995011|99999|2017| 03| 04| 72.9|        10|9999.9|         0|1019.9|       10|9999.9|        0|999.9|          0|18.8|        10| 19.4|999.9| 73.2|       *|  72.5|       *| 0.0|        I|999.9|  0|           0|               0|   0|      0|                   0|22.722222222222225| 9.671547200000001|\n",
            "|998012|99999|2017| 09| 01| 60.7|        24|9999.9|         0|1022.3|       15|9999.9|        0|999.9|          0| 3.6|        15|  7.0|999.9| 72.0|       *|  49.5|       *| 0.0|        I|999.9|  0|           0|               0|   0|      0|                   0|15.944444444444446|         1.8519984|\n",
            "|996080|99999|2017| 05| 02| 58.4|        12|9999.9|         0|1017.2|       12|1017.0|       12|999.9|          0|14.2|        12| 21.4|999.9| 59.5|       *|  56.1|       *| 0.0|        I|999.9|  0|           0|               0|   0|      0|                   0|14.666666666666666|         7.3051048|\n",
            "|996170|99999|2017| 08| 27| 75.6|        14|9999.9|         0|1016.6|       14|1016.4|       14|999.9|          0| 3.7|        14|  5.8|999.9| 77.4|       *|  73.2|       *| 0.0|        I|999.9|  0|           0|               0|   0|      0|                   0| 24.22222222222222|         1.9034428|\n",
            "|998166|99999|2017| 05| 29| 64.1|        24|9999.9|         0|1008.5|       14|9999.9|        0|999.9|          0| 9.7|        14| 18.1|999.9| 70.2|       *|  61.5|       *| 0.0|        I|999.9|  0|           0|               0|   0|      0|                   0|17.833333333333332|4.9901067999999995|\n",
            "|995011|99999|2017| 02| 07| 73.8|        13|9999.9|         0|1021.3|       13|9999.9|        0|999.9|          0|17.0|        13| 19.4|999.9| 74.5|       *|  73.0|       *| 0.0|        I|999.9|  0|           0|               0|   0|      0|                   0| 23.22222222222222|          8.745548|\n",
            "|869830|99999|2017| 08| 18| 48.2|        10|9999.9|         0|1034.3|       10| 994.0|       10|999.9|          0| 0.0|        10|999.9|999.9| 55.8|        |  42.1|        | 0.0|        I|999.9|  0|           0|               0|   0|      0|                   0| 9.000000000000002|               0.0|\n",
            "|996170|99999|2017| 05| 09| 58.4|        14|9999.9|         0|1011.6|       14|1011.4|       14|999.9|          0|13.6|        14| 21.4|999.9| 59.7|       *|  56.7|       *| 0.0|        I|999.9|  0|           0|               0|   0|      0|                   0|14.666666666666666|         6.9964384|\n",
            "|998166|99999|2017| 02| 15| 33.9|        24|9999.9|         0|1001.8|       15|9999.9|        0|999.9|          0|17.5|        15| 27.0|999.9| 43.0|       *|  27.3|       *| 0.0|        I|999.9|  0|           0|               0|   0|      0|                   0| 1.055555555555555|           9.00277|\n",
            "|998346|99999|2017| 10| 30| 83.8|        14|9999.9|         0|1011.7|       14|9999.9|        0|999.9|          0| 4.4|        14|  7.8|999.9| 87.6|       *|  82.6|       *| 0.0|        I|999.9|  0|           0|               0|   0|      0|                   0| 28.77777777777778|2.2635536000000003|\n",
            "|994430|99999|2017| 01| 23| 73.1|        10|9999.9|         0|1004.2|        9|9999.9|        0|999.9|          0|30.2|        10| 35.0|999.9| 74.5|       *|  72.0|       *| 0.0|        I|999.9|  0|           0|               0|   0|      0|                   0|22.833333333333332|        15.5362088|\n",
            "|711100|99999|2017| 10| 16| 54.0|        10|9999.9|         0|1004.8|       10| 997.9|        8|999.9|          0|15.3|        10| 25.3|999.9| 58.8|        |  48.2|        |0.26|        G|  0.4|  0|           0|               0|   0|      0|                   0|12.222222222222223| 7.870993200000001|\n",
            "|917430|99999|2017| 04| 26|101.6|        14|9999.9|         0|1009.7|       14| 977.8|       14|999.9|          0| 5.4|        14| 14.8|999.9|126.9|       *|9999.9|        | 0.0|        I|999.9|  0|           0|               0|   0|      0|                   0|38.666666666666664|2.7779976000000004|\n",
            "|998324|99999|2017| 08| 09| 75.3|        15|9999.9|         0|1020.7|       15|9999.9|        0|999.9|          0| 8.2|        15| 11.7|999.9| 76.6|       *|  74.1|       *| 0.0|        I|999.9|  0|           0|               0|   0|      0|                   0|24.055555555555554|         4.2184408|\n",
            "|992024|99999|2017| 03| 06| 77.5|        10|9999.9|         0|1015.6|       10|1015.4|       10|999.9|          0|12.0|        10| 13.6|999.9| 78.3|       *|  76.3|       *| 0.0|        I|999.9|  0|           0|               0|   0|      0|                   0| 25.27777777777778|          6.173328|\n",
            "|998229|99999|2017| 07| 10| 87.3|        14|9999.9|         0|1015.7|       13|9999.9|        0|999.9|          0| 4.7|        14|  8.0|999.9| 90.5|       *|  81.0|       *| 0.0|        I|999.9|  0|           0|               0|   0|      0|                   0| 30.72222222222222|2.4178868000000002|\n",
            "|996080|99999|2017| 09| 04| 70.8|        12|9999.9|         0|1016.7|       12|1016.5|       12|999.9|          0| 4.0|        12|  5.8|999.9| 72.5|       *|  68.4|       *| 0.0|        I|999.9|  0|           0|               0|   0|      0|                   0|21.555555555555554|          2.057776|\n",
            "|998193|99999|2017| 11| 19| 72.0|        10|9999.9|         0|1012.6|       10|9999.9|        0|999.9|          0|10.1|        10| 22.9|999.9| 74.8|       *|  68.9|       *| 0.0|        I|999.9|  0|           0|               0|   0|      0|                   0| 22.22222222222222|         5.1958844|\n",
            "+------+-----+----+---+---+-----+----------+------+----------+------+---------+------+---------+-----+-----------+----+----------+-----+-----+-----+--------+------+--------+----+---------+-----+---+------------+----------------+----+-------+--------------------+------------------+------------------+\n",
            "only showing top 20 rows\n",
            "\n"
          ]
        }
      ]
    },
    {
      "cell_type": "markdown",
      "metadata": {
        "id": "EfzKYx-5bG3u"
      },
      "source": [
        "# 🔵 (20 pts total, 10 pts each) Window Functions"
      ]
    },
    {
      "cell_type": "markdown",
      "metadata": {
        "id": "PX3yvACYoriX"
      },
      "source": [
        "## Station Quality"
      ]
    },
    {
      "cell_type": "code",
      "execution_count": 28,
      "metadata": {
        "colab": {
          "base_uri": "https://localhost:8080/"
        },
        "id": "q-Ro-HEymYy-",
        "outputId": "9c7529ee-9dd6-4b8a-d19b-cf5eb08b3765"
      },
      "outputs": [
        {
          "output_type": "stream",
          "name": "stdout",
          "text": [
            "These are the counts of all stations: 12832\n",
            "These are the counts of stations with decent data quality: 9963\n",
            "+------+-----+\n",
            "|   stn|count|\n",
            "+------+-----+\n",
            "|760400|  901|\n",
            "|627900|  901|\n",
            "|943930|  902|\n",
            "|718433|  902|\n",
            "|368710|  903|\n",
            "|014650|  903|\n",
            "|817520|  903|\n",
            "|717360|  903|\n",
            "|817880|  904|\n",
            "|719043|  904|\n",
            "|423720|  904|\n",
            "|724856|  905|\n",
            "|703333|  905|\n",
            "|618560|  905|\n",
            "|268500|  905|\n",
            "|272230|  905|\n",
            "|722363|  905|\n",
            "|368830|  905|\n",
            "|160360|  905|\n",
            "|655600|  906|\n",
            "+------+-----+\n",
            "only showing top 20 rows\n",
            "\n"
          ]
        }
      ],
      "source": [
        "# these are the total number of stations - 12k\n",
        "print('These are the counts of all stations:', gsod.select('stn').distinct().count())\n",
        "# look at stations with sparse data quality - 9.9k\n",
        "tmp = gsod.groupby('stn').count().orderBy('count')\n",
        "# let's keep stations that have 300*3 = 900 observations\n",
        "tmp = tmp.where(f'count > 900').select('stn', 'count')\n",
        "print('These are the counts of stations with decent data quality:', tmp.distinct().count())\n",
        "tmp.show()"
      ]
    },
    {
      "cell_type": "code",
      "execution_count": 29,
      "metadata": {
        "colab": {
          "base_uri": "https://localhost:8080/",
          "height": 300
        },
        "id": "kPe3FAlHnqE4",
        "outputId": "0a58a691-a6f7-41ca-9c75-bf932b29f76f"
      },
      "outputs": [
        {
          "output_type": "execute_result",
          "data": {
            "text/plain": [
              "               count\n",
              "count    9963.000000\n",
              "mean     1105.040149\n",
              "std      3123.529808\n",
              "min       901.000000\n",
              "25%      1076.000000\n",
              "50%      1085.000000\n",
              "75%      1086.000000\n",
              "max    312826.000000"
            ],
            "text/html": [
              "\n",
              "  <div id=\"df-f3613866-a15b-4c65-b6d8-684141e4d470\" class=\"colab-df-container\">\n",
              "    <div>\n",
              "<style scoped>\n",
              "    .dataframe tbody tr th:only-of-type {\n",
              "        vertical-align: middle;\n",
              "    }\n",
              "\n",
              "    .dataframe tbody tr th {\n",
              "        vertical-align: top;\n",
              "    }\n",
              "\n",
              "    .dataframe thead th {\n",
              "        text-align: right;\n",
              "    }\n",
              "</style>\n",
              "<table border=\"1\" class=\"dataframe\">\n",
              "  <thead>\n",
              "    <tr style=\"text-align: right;\">\n",
              "      <th></th>\n",
              "      <th>count</th>\n",
              "    </tr>\n",
              "  </thead>\n",
              "  <tbody>\n",
              "    <tr>\n",
              "      <th>count</th>\n",
              "      <td>9963.000000</td>\n",
              "    </tr>\n",
              "    <tr>\n",
              "      <th>mean</th>\n",
              "      <td>1105.040149</td>\n",
              "    </tr>\n",
              "    <tr>\n",
              "      <th>std</th>\n",
              "      <td>3123.529808</td>\n",
              "    </tr>\n",
              "    <tr>\n",
              "      <th>min</th>\n",
              "      <td>901.000000</td>\n",
              "    </tr>\n",
              "    <tr>\n",
              "      <th>25%</th>\n",
              "      <td>1076.000000</td>\n",
              "    </tr>\n",
              "    <tr>\n",
              "      <th>50%</th>\n",
              "      <td>1085.000000</td>\n",
              "    </tr>\n",
              "    <tr>\n",
              "      <th>75%</th>\n",
              "      <td>1086.000000</td>\n",
              "    </tr>\n",
              "    <tr>\n",
              "      <th>max</th>\n",
              "      <td>312826.000000</td>\n",
              "    </tr>\n",
              "  </tbody>\n",
              "</table>\n",
              "</div>\n",
              "    <div class=\"colab-df-buttons\">\n",
              "\n",
              "  <div class=\"colab-df-container\">\n",
              "    <button class=\"colab-df-convert\" onclick=\"convertToInteractive('df-f3613866-a15b-4c65-b6d8-684141e4d470')\"\n",
              "            title=\"Convert this dataframe to an interactive table.\"\n",
              "            style=\"display:none;\">\n",
              "\n",
              "  <svg xmlns=\"http://www.w3.org/2000/svg\" height=\"24px\" viewBox=\"0 -960 960 960\">\n",
              "    <path d=\"M120-120v-720h720v720H120Zm60-500h600v-160H180v160Zm220 220h160v-160H400v160Zm0 220h160v-160H400v160ZM180-400h160v-160H180v160Zm440 0h160v-160H620v160ZM180-180h160v-160H180v160Zm440 0h160v-160H620v160Z\"/>\n",
              "  </svg>\n",
              "    </button>\n",
              "\n",
              "  <style>\n",
              "    .colab-df-container {\n",
              "      display:flex;\n",
              "      gap: 12px;\n",
              "    }\n",
              "\n",
              "    .colab-df-convert {\n",
              "      background-color: #E8F0FE;\n",
              "      border: none;\n",
              "      border-radius: 50%;\n",
              "      cursor: pointer;\n",
              "      display: none;\n",
              "      fill: #1967D2;\n",
              "      height: 32px;\n",
              "      padding: 0 0 0 0;\n",
              "      width: 32px;\n",
              "    }\n",
              "\n",
              "    .colab-df-convert:hover {\n",
              "      background-color: #E2EBFA;\n",
              "      box-shadow: 0px 1px 2px rgba(60, 64, 67, 0.3), 0px 1px 3px 1px rgba(60, 64, 67, 0.15);\n",
              "      fill: #174EA6;\n",
              "    }\n",
              "\n",
              "    .colab-df-buttons div {\n",
              "      margin-bottom: 4px;\n",
              "    }\n",
              "\n",
              "    [theme=dark] .colab-df-convert {\n",
              "      background-color: #3B4455;\n",
              "      fill: #D2E3FC;\n",
              "    }\n",
              "\n",
              "    [theme=dark] .colab-df-convert:hover {\n",
              "      background-color: #434B5C;\n",
              "      box-shadow: 0px 1px 3px 1px rgba(0, 0, 0, 0.15);\n",
              "      filter: drop-shadow(0px 1px 2px rgba(0, 0, 0, 0.3));\n",
              "      fill: #FFFFFF;\n",
              "    }\n",
              "  </style>\n",
              "\n",
              "    <script>\n",
              "      const buttonEl =\n",
              "        document.querySelector('#df-f3613866-a15b-4c65-b6d8-684141e4d470 button.colab-df-convert');\n",
              "      buttonEl.style.display =\n",
              "        google.colab.kernel.accessAllowed ? 'block' : 'none';\n",
              "\n",
              "      async function convertToInteractive(key) {\n",
              "        const element = document.querySelector('#df-f3613866-a15b-4c65-b6d8-684141e4d470');\n",
              "        const dataTable =\n",
              "          await google.colab.kernel.invokeFunction('convertToInteractive',\n",
              "                                                    [key], {});\n",
              "        if (!dataTable) return;\n",
              "\n",
              "        const docLinkHtml = 'Like what you see? Visit the ' +\n",
              "          '<a target=\"_blank\" href=https://colab.research.google.com/notebooks/data_table.ipynb>data table notebook</a>'\n",
              "          + ' to learn more about interactive tables.';\n",
              "        element.innerHTML = '';\n",
              "        dataTable['output_type'] = 'display_data';\n",
              "        await google.colab.output.renderOutput(dataTable, element);\n",
              "        const docLink = document.createElement('div');\n",
              "        docLink.innerHTML = docLinkHtml;\n",
              "        element.appendChild(docLink);\n",
              "      }\n",
              "    </script>\n",
              "  </div>\n",
              "\n",
              "\n",
              "<div id=\"df-458e1e57-d49d-4172-9336-528a53f901f8\">\n",
              "  <button class=\"colab-df-quickchart\" onclick=\"quickchart('df-458e1e57-d49d-4172-9336-528a53f901f8')\"\n",
              "            title=\"Suggest charts\"\n",
              "            style=\"display:none;\">\n",
              "\n",
              "<svg xmlns=\"http://www.w3.org/2000/svg\" height=\"24px\"viewBox=\"0 0 24 24\"\n",
              "     width=\"24px\">\n",
              "    <g>\n",
              "        <path d=\"M19 3H5c-1.1 0-2 .9-2 2v14c0 1.1.9 2 2 2h14c1.1 0 2-.9 2-2V5c0-1.1-.9-2-2-2zM9 17H7v-7h2v7zm4 0h-2V7h2v10zm4 0h-2v-4h2v4z\"/>\n",
              "    </g>\n",
              "</svg>\n",
              "  </button>\n",
              "\n",
              "<style>\n",
              "  .colab-df-quickchart {\n",
              "      --bg-color: #E8F0FE;\n",
              "      --fill-color: #1967D2;\n",
              "      --hover-bg-color: #E2EBFA;\n",
              "      --hover-fill-color: #174EA6;\n",
              "      --disabled-fill-color: #AAA;\n",
              "      --disabled-bg-color: #DDD;\n",
              "  }\n",
              "\n",
              "  [theme=dark] .colab-df-quickchart {\n",
              "      --bg-color: #3B4455;\n",
              "      --fill-color: #D2E3FC;\n",
              "      --hover-bg-color: #434B5C;\n",
              "      --hover-fill-color: #FFFFFF;\n",
              "      --disabled-bg-color: #3B4455;\n",
              "      --disabled-fill-color: #666;\n",
              "  }\n",
              "\n",
              "  .colab-df-quickchart {\n",
              "    background-color: var(--bg-color);\n",
              "    border: none;\n",
              "    border-radius: 50%;\n",
              "    cursor: pointer;\n",
              "    display: none;\n",
              "    fill: var(--fill-color);\n",
              "    height: 32px;\n",
              "    padding: 0;\n",
              "    width: 32px;\n",
              "  }\n",
              "\n",
              "  .colab-df-quickchart:hover {\n",
              "    background-color: var(--hover-bg-color);\n",
              "    box-shadow: 0 1px 2px rgba(60, 64, 67, 0.3), 0 1px 3px 1px rgba(60, 64, 67, 0.15);\n",
              "    fill: var(--button-hover-fill-color);\n",
              "  }\n",
              "\n",
              "  .colab-df-quickchart-complete:disabled,\n",
              "  .colab-df-quickchart-complete:disabled:hover {\n",
              "    background-color: var(--disabled-bg-color);\n",
              "    fill: var(--disabled-fill-color);\n",
              "    box-shadow: none;\n",
              "  }\n",
              "\n",
              "  .colab-df-spinner {\n",
              "    border: 2px solid var(--fill-color);\n",
              "    border-color: transparent;\n",
              "    border-bottom-color: var(--fill-color);\n",
              "    animation:\n",
              "      spin 1s steps(1) infinite;\n",
              "  }\n",
              "\n",
              "  @keyframes spin {\n",
              "    0% {\n",
              "      border-color: transparent;\n",
              "      border-bottom-color: var(--fill-color);\n",
              "      border-left-color: var(--fill-color);\n",
              "    }\n",
              "    20% {\n",
              "      border-color: transparent;\n",
              "      border-left-color: var(--fill-color);\n",
              "      border-top-color: var(--fill-color);\n",
              "    }\n",
              "    30% {\n",
              "      border-color: transparent;\n",
              "      border-left-color: var(--fill-color);\n",
              "      border-top-color: var(--fill-color);\n",
              "      border-right-color: var(--fill-color);\n",
              "    }\n",
              "    40% {\n",
              "      border-color: transparent;\n",
              "      border-right-color: var(--fill-color);\n",
              "      border-top-color: var(--fill-color);\n",
              "    }\n",
              "    60% {\n",
              "      border-color: transparent;\n",
              "      border-right-color: var(--fill-color);\n",
              "    }\n",
              "    80% {\n",
              "      border-color: transparent;\n",
              "      border-right-color: var(--fill-color);\n",
              "      border-bottom-color: var(--fill-color);\n",
              "    }\n",
              "    90% {\n",
              "      border-color: transparent;\n",
              "      border-bottom-color: var(--fill-color);\n",
              "    }\n",
              "  }\n",
              "</style>\n",
              "\n",
              "  <script>\n",
              "    async function quickchart(key) {\n",
              "      const quickchartButtonEl =\n",
              "        document.querySelector('#' + key + ' button');\n",
              "      quickchartButtonEl.disabled = true;  // To prevent multiple clicks.\n",
              "      quickchartButtonEl.classList.add('colab-df-spinner');\n",
              "      try {\n",
              "        const charts = await google.colab.kernel.invokeFunction(\n",
              "            'suggestCharts', [key], {});\n",
              "      } catch (error) {\n",
              "        console.error('Error during call to suggestCharts:', error);\n",
              "      }\n",
              "      quickchartButtonEl.classList.remove('colab-df-spinner');\n",
              "      quickchartButtonEl.classList.add('colab-df-quickchart-complete');\n",
              "    }\n",
              "    (() => {\n",
              "      let quickchartButtonEl =\n",
              "        document.querySelector('#df-458e1e57-d49d-4172-9336-528a53f901f8 button');\n",
              "      quickchartButtonEl.style.display =\n",
              "        google.colab.kernel.accessAllowed ? 'block' : 'none';\n",
              "    })();\n",
              "  </script>\n",
              "</div>\n",
              "    </div>\n",
              "  </div>\n"
            ]
          },
          "metadata": {},
          "execution_count": 29
        }
      ],
      "source": [
        "# make a plot of those stations with good data quality\n",
        "import matplotlib.pyplot as plt\n",
        "import pandas as pd\n",
        "\n",
        "tmp = tmp.toPandas()\n",
        "tmp.describe()"
      ]
    },
    {
      "cell_type": "code",
      "source": [
        "# the top stn was 99999 which is missing values, so making a plot for postion 1 and onwards\n",
        "tmp = tmp.sort_values('count', ascending=False).iloc[1:].head(21)"
      ],
      "metadata": {
        "id": "EKmFYISVHCRj"
      },
      "execution_count": 30,
      "outputs": []
    },
    {
      "cell_type": "code",
      "execution_count": 31,
      "metadata": {
        "colab": {
          "base_uri": "https://localhost:8080/",
          "height": 676
        },
        "id": "keLCRlydotme",
        "outputId": "67ebefcc-9d0a-441d-f3ba-ac250c9dc5ca"
      },
      "outputs": [
        {
          "output_type": "execute_result",
          "data": {
            "text/plain": [
              "         stn  count\n",
              "9961  720613   1257\n",
              "9960  720609   1252\n",
              "9959  747918   1243\n",
              "9958  720408   1243\n",
              "9957  720586   1242\n",
              "9956  720738   1240\n",
              "9955  720254   1238\n",
              "9954  720643   1238\n",
              "9953  720961   1236\n",
              "9951  720448   1235\n",
              "9952  720902   1235\n",
              "9950  747917   1233\n",
              "9949  720584   1233\n",
              "9948  720539   1233\n",
              "9947  726873   1232\n",
              "9946  720406   1232\n",
              "9945  722248   1231\n",
              "9944  725258   1231\n",
              "9943  720411   1231\n",
              "9941  789470   1230"
            ],
            "text/html": [
              "\n",
              "  <div id=\"df-fceb4c5b-2d50-4fe9-9d71-47b4e3249ac5\" class=\"colab-df-container\">\n",
              "    <div>\n",
              "<style scoped>\n",
              "    .dataframe tbody tr th:only-of-type {\n",
              "        vertical-align: middle;\n",
              "    }\n",
              "\n",
              "    .dataframe tbody tr th {\n",
              "        vertical-align: top;\n",
              "    }\n",
              "\n",
              "    .dataframe thead th {\n",
              "        text-align: right;\n",
              "    }\n",
              "</style>\n",
              "<table border=\"1\" class=\"dataframe\">\n",
              "  <thead>\n",
              "    <tr style=\"text-align: right;\">\n",
              "      <th></th>\n",
              "      <th>stn</th>\n",
              "      <th>count</th>\n",
              "    </tr>\n",
              "  </thead>\n",
              "  <tbody>\n",
              "    <tr>\n",
              "      <th>9961</th>\n",
              "      <td>720613</td>\n",
              "      <td>1257</td>\n",
              "    </tr>\n",
              "    <tr>\n",
              "      <th>9960</th>\n",
              "      <td>720609</td>\n",
              "      <td>1252</td>\n",
              "    </tr>\n",
              "    <tr>\n",
              "      <th>9959</th>\n",
              "      <td>747918</td>\n",
              "      <td>1243</td>\n",
              "    </tr>\n",
              "    <tr>\n",
              "      <th>9958</th>\n",
              "      <td>720408</td>\n",
              "      <td>1243</td>\n",
              "    </tr>\n",
              "    <tr>\n",
              "      <th>9957</th>\n",
              "      <td>720586</td>\n",
              "      <td>1242</td>\n",
              "    </tr>\n",
              "    <tr>\n",
              "      <th>9956</th>\n",
              "      <td>720738</td>\n",
              "      <td>1240</td>\n",
              "    </tr>\n",
              "    <tr>\n",
              "      <th>9955</th>\n",
              "      <td>720254</td>\n",
              "      <td>1238</td>\n",
              "    </tr>\n",
              "    <tr>\n",
              "      <th>9954</th>\n",
              "      <td>720643</td>\n",
              "      <td>1238</td>\n",
              "    </tr>\n",
              "    <tr>\n",
              "      <th>9953</th>\n",
              "      <td>720961</td>\n",
              "      <td>1236</td>\n",
              "    </tr>\n",
              "    <tr>\n",
              "      <th>9951</th>\n",
              "      <td>720448</td>\n",
              "      <td>1235</td>\n",
              "    </tr>\n",
              "    <tr>\n",
              "      <th>9952</th>\n",
              "      <td>720902</td>\n",
              "      <td>1235</td>\n",
              "    </tr>\n",
              "    <tr>\n",
              "      <th>9950</th>\n",
              "      <td>747917</td>\n",
              "      <td>1233</td>\n",
              "    </tr>\n",
              "    <tr>\n",
              "      <th>9949</th>\n",
              "      <td>720584</td>\n",
              "      <td>1233</td>\n",
              "    </tr>\n",
              "    <tr>\n",
              "      <th>9948</th>\n",
              "      <td>720539</td>\n",
              "      <td>1233</td>\n",
              "    </tr>\n",
              "    <tr>\n",
              "      <th>9947</th>\n",
              "      <td>726873</td>\n",
              "      <td>1232</td>\n",
              "    </tr>\n",
              "    <tr>\n",
              "      <th>9946</th>\n",
              "      <td>720406</td>\n",
              "      <td>1232</td>\n",
              "    </tr>\n",
              "    <tr>\n",
              "      <th>9945</th>\n",
              "      <td>722248</td>\n",
              "      <td>1231</td>\n",
              "    </tr>\n",
              "    <tr>\n",
              "      <th>9944</th>\n",
              "      <td>725258</td>\n",
              "      <td>1231</td>\n",
              "    </tr>\n",
              "    <tr>\n",
              "      <th>9943</th>\n",
              "      <td>720411</td>\n",
              "      <td>1231</td>\n",
              "    </tr>\n",
              "    <tr>\n",
              "      <th>9941</th>\n",
              "      <td>789470</td>\n",
              "      <td>1230</td>\n",
              "    </tr>\n",
              "  </tbody>\n",
              "</table>\n",
              "</div>\n",
              "    <div class=\"colab-df-buttons\">\n",
              "\n",
              "  <div class=\"colab-df-container\">\n",
              "    <button class=\"colab-df-convert\" onclick=\"convertToInteractive('df-fceb4c5b-2d50-4fe9-9d71-47b4e3249ac5')\"\n",
              "            title=\"Convert this dataframe to an interactive table.\"\n",
              "            style=\"display:none;\">\n",
              "\n",
              "  <svg xmlns=\"http://www.w3.org/2000/svg\" height=\"24px\" viewBox=\"0 -960 960 960\">\n",
              "    <path d=\"M120-120v-720h720v720H120Zm60-500h600v-160H180v160Zm220 220h160v-160H400v160Zm0 220h160v-160H400v160ZM180-400h160v-160H180v160Zm440 0h160v-160H620v160ZM180-180h160v-160H180v160Zm440 0h160v-160H620v160Z\"/>\n",
              "  </svg>\n",
              "    </button>\n",
              "\n",
              "  <style>\n",
              "    .colab-df-container {\n",
              "      display:flex;\n",
              "      gap: 12px;\n",
              "    }\n",
              "\n",
              "    .colab-df-convert {\n",
              "      background-color: #E8F0FE;\n",
              "      border: none;\n",
              "      border-radius: 50%;\n",
              "      cursor: pointer;\n",
              "      display: none;\n",
              "      fill: #1967D2;\n",
              "      height: 32px;\n",
              "      padding: 0 0 0 0;\n",
              "      width: 32px;\n",
              "    }\n",
              "\n",
              "    .colab-df-convert:hover {\n",
              "      background-color: #E2EBFA;\n",
              "      box-shadow: 0px 1px 2px rgba(60, 64, 67, 0.3), 0px 1px 3px 1px rgba(60, 64, 67, 0.15);\n",
              "      fill: #174EA6;\n",
              "    }\n",
              "\n",
              "    .colab-df-buttons div {\n",
              "      margin-bottom: 4px;\n",
              "    }\n",
              "\n",
              "    [theme=dark] .colab-df-convert {\n",
              "      background-color: #3B4455;\n",
              "      fill: #D2E3FC;\n",
              "    }\n",
              "\n",
              "    [theme=dark] .colab-df-convert:hover {\n",
              "      background-color: #434B5C;\n",
              "      box-shadow: 0px 1px 3px 1px rgba(0, 0, 0, 0.15);\n",
              "      filter: drop-shadow(0px 1px 2px rgba(0, 0, 0, 0.3));\n",
              "      fill: #FFFFFF;\n",
              "    }\n",
              "  </style>\n",
              "\n",
              "    <script>\n",
              "      const buttonEl =\n",
              "        document.querySelector('#df-fceb4c5b-2d50-4fe9-9d71-47b4e3249ac5 button.colab-df-convert');\n",
              "      buttonEl.style.display =\n",
              "        google.colab.kernel.accessAllowed ? 'block' : 'none';\n",
              "\n",
              "      async function convertToInteractive(key) {\n",
              "        const element = document.querySelector('#df-fceb4c5b-2d50-4fe9-9d71-47b4e3249ac5');\n",
              "        const dataTable =\n",
              "          await google.colab.kernel.invokeFunction('convertToInteractive',\n",
              "                                                    [key], {});\n",
              "        if (!dataTable) return;\n",
              "\n",
              "        const docLinkHtml = 'Like what you see? Visit the ' +\n",
              "          '<a target=\"_blank\" href=https://colab.research.google.com/notebooks/data_table.ipynb>data table notebook</a>'\n",
              "          + ' to learn more about interactive tables.';\n",
              "        element.innerHTML = '';\n",
              "        dataTable['output_type'] = 'display_data';\n",
              "        await google.colab.output.renderOutput(dataTable, element);\n",
              "        const docLink = document.createElement('div');\n",
              "        docLink.innerHTML = docLinkHtml;\n",
              "        element.appendChild(docLink);\n",
              "      }\n",
              "    </script>\n",
              "  </div>\n",
              "\n",
              "\n",
              "<div id=\"df-2f76884e-9c6d-4f65-b223-1592b670c302\">\n",
              "  <button class=\"colab-df-quickchart\" onclick=\"quickchart('df-2f76884e-9c6d-4f65-b223-1592b670c302')\"\n",
              "            title=\"Suggest charts\"\n",
              "            style=\"display:none;\">\n",
              "\n",
              "<svg xmlns=\"http://www.w3.org/2000/svg\" height=\"24px\"viewBox=\"0 0 24 24\"\n",
              "     width=\"24px\">\n",
              "    <g>\n",
              "        <path d=\"M19 3H5c-1.1 0-2 .9-2 2v14c0 1.1.9 2 2 2h14c1.1 0 2-.9 2-2V5c0-1.1-.9-2-2-2zM9 17H7v-7h2v7zm4 0h-2V7h2v10zm4 0h-2v-4h2v4z\"/>\n",
              "    </g>\n",
              "</svg>\n",
              "  </button>\n",
              "\n",
              "<style>\n",
              "  .colab-df-quickchart {\n",
              "      --bg-color: #E8F0FE;\n",
              "      --fill-color: #1967D2;\n",
              "      --hover-bg-color: #E2EBFA;\n",
              "      --hover-fill-color: #174EA6;\n",
              "      --disabled-fill-color: #AAA;\n",
              "      --disabled-bg-color: #DDD;\n",
              "  }\n",
              "\n",
              "  [theme=dark] .colab-df-quickchart {\n",
              "      --bg-color: #3B4455;\n",
              "      --fill-color: #D2E3FC;\n",
              "      --hover-bg-color: #434B5C;\n",
              "      --hover-fill-color: #FFFFFF;\n",
              "      --disabled-bg-color: #3B4455;\n",
              "      --disabled-fill-color: #666;\n",
              "  }\n",
              "\n",
              "  .colab-df-quickchart {\n",
              "    background-color: var(--bg-color);\n",
              "    border: none;\n",
              "    border-radius: 50%;\n",
              "    cursor: pointer;\n",
              "    display: none;\n",
              "    fill: var(--fill-color);\n",
              "    height: 32px;\n",
              "    padding: 0;\n",
              "    width: 32px;\n",
              "  }\n",
              "\n",
              "  .colab-df-quickchart:hover {\n",
              "    background-color: var(--hover-bg-color);\n",
              "    box-shadow: 0 1px 2px rgba(60, 64, 67, 0.3), 0 1px 3px 1px rgba(60, 64, 67, 0.15);\n",
              "    fill: var(--button-hover-fill-color);\n",
              "  }\n",
              "\n",
              "  .colab-df-quickchart-complete:disabled,\n",
              "  .colab-df-quickchart-complete:disabled:hover {\n",
              "    background-color: var(--disabled-bg-color);\n",
              "    fill: var(--disabled-fill-color);\n",
              "    box-shadow: none;\n",
              "  }\n",
              "\n",
              "  .colab-df-spinner {\n",
              "    border: 2px solid var(--fill-color);\n",
              "    border-color: transparent;\n",
              "    border-bottom-color: var(--fill-color);\n",
              "    animation:\n",
              "      spin 1s steps(1) infinite;\n",
              "  }\n",
              "\n",
              "  @keyframes spin {\n",
              "    0% {\n",
              "      border-color: transparent;\n",
              "      border-bottom-color: var(--fill-color);\n",
              "      border-left-color: var(--fill-color);\n",
              "    }\n",
              "    20% {\n",
              "      border-color: transparent;\n",
              "      border-left-color: var(--fill-color);\n",
              "      border-top-color: var(--fill-color);\n",
              "    }\n",
              "    30% {\n",
              "      border-color: transparent;\n",
              "      border-left-color: var(--fill-color);\n",
              "      border-top-color: var(--fill-color);\n",
              "      border-right-color: var(--fill-color);\n",
              "    }\n",
              "    40% {\n",
              "      border-color: transparent;\n",
              "      border-right-color: var(--fill-color);\n",
              "      border-top-color: var(--fill-color);\n",
              "    }\n",
              "    60% {\n",
              "      border-color: transparent;\n",
              "      border-right-color: var(--fill-color);\n",
              "    }\n",
              "    80% {\n",
              "      border-color: transparent;\n",
              "      border-right-color: var(--fill-color);\n",
              "      border-bottom-color: var(--fill-color);\n",
              "    }\n",
              "    90% {\n",
              "      border-color: transparent;\n",
              "      border-bottom-color: var(--fill-color);\n",
              "    }\n",
              "  }\n",
              "</style>\n",
              "\n",
              "  <script>\n",
              "    async function quickchart(key) {\n",
              "      const quickchartButtonEl =\n",
              "        document.querySelector('#' + key + ' button');\n",
              "      quickchartButtonEl.disabled = true;  // To prevent multiple clicks.\n",
              "      quickchartButtonEl.classList.add('colab-df-spinner');\n",
              "      try {\n",
              "        const charts = await google.colab.kernel.invokeFunction(\n",
              "            'suggestCharts', [key], {});\n",
              "      } catch (error) {\n",
              "        console.error('Error during call to suggestCharts:', error);\n",
              "      }\n",
              "      quickchartButtonEl.classList.remove('colab-df-spinner');\n",
              "      quickchartButtonEl.classList.add('colab-df-quickchart-complete');\n",
              "    }\n",
              "    (() => {\n",
              "      let quickchartButtonEl =\n",
              "        document.querySelector('#df-2f76884e-9c6d-4f65-b223-1592b670c302 button');\n",
              "      quickchartButtonEl.style.display =\n",
              "        google.colab.kernel.accessAllowed ? 'block' : 'none';\n",
              "    })();\n",
              "  </script>\n",
              "</div>\n",
              "    </div>\n",
              "  </div>\n"
            ]
          },
          "metadata": {},
          "execution_count": 31
        }
      ],
      "source": [
        "tmp1 = tmp.head(20)\n",
        "tmp1"
      ]
    },
    {
      "cell_type": "code",
      "source": [
        "# bar plot for tmp1\n",
        "tmp1.plot.bar('stn','count')\n",
        "plt.xlabel(\"Stations\")\n",
        "plt.ylabel(\"Count\")\n",
        "plt.xticks(rotation = 45)\n",
        "plt.show()"
      ],
      "metadata": {
        "colab": {
          "base_uri": "https://localhost:8080/",
          "height": 483
        },
        "id": "mB_LCOfQMWqd",
        "outputId": "19dc0b18-3c5b-4e0b-ded6-eb49d975ef6b"
      },
      "execution_count": 32,
      "outputs": [
        {
          "output_type": "display_data",
          "data": {
            "text/plain": [
              "<Figure size 640x480 with 1 Axes>"
            ],
            "image/png": "[encoded data removed]"
          },
          "metadata": {}
        }
      ]
    },
    {
      "cell_type": "code",
      "execution_count": 33,
      "metadata": {
        "colab": {
          "base_uri": "https://localhost:8080/",
          "height": 483
        },
        "id": "rmaZCx5Fn21A",
        "outputId": "e7ab4cb9-7cfb-4330-db43-cc052146f396"
      },
      "outputs": [
        {
          "output_type": "display_data",
          "data": {
            "text/plain": [
              "<Figure size 640x480 with 1 Axes>"
            ],
            "image/png": "[encoded data removed]"
          },
          "metadata": {}
        }
      ],
      "source": [
        "#scatter plot for tmp1\n",
        "plt.scatter(tmp1['stn'], tmp1['count'])\n",
        "plt.xlabel(\"Stations\")\n",
        "plt.ylabel(\"Count\")\n",
        "plt.xticks(rotation = 45)\n",
        "plt.show()"
      ]
    },
    {
      "cell_type": "markdown",
      "metadata": {
        "id": "ESKSx45GyePl"
      },
      "source": [
        "## Rolling Averages"
      ]
    },
    {
      "cell_type": "markdown",
      "metadata": {
        "id": "eIBi809lhLdA"
      },
      "source": [
        "Read this:\n",
        "* https://stackoverflow.com/questions/45806194/pyspark-rolling-average-using-timeseries-data\n",
        "\n",
        "...decide which answer is closest to our GSOD dataset, and decide if you need to use rowBetween and rangeBetween! Remember your data is in daily data right now and that you may not have a perfect of observations each day."
      ]
    },
    {
      "cell_type": "code",
      "execution_count": 34,
      "metadata": {
        "id": "cvQa2Yjgyrb0"
      },
      "outputs": [],
      "source": [
        "# getting the date and seconds column\n",
        "gsod = (\n",
        "    gsod.withColumn(\n",
        "        \"dt\",\n",
        "        F.to_date(F.concat_ws(\"-\", F.col(\"year\"), F.col(\"mo\"), F.col(\"da\"))),\n",
        "    )\n",
        "    .withColumn(\"dt_num\", F.unix_timestamp(\"dt\"))\n",
        ")"
      ]
    },
    {
      "cell_type": "code",
      "execution_count": 35,
      "metadata": {
        "colab": {
          "base_uri": "https://localhost:8080/"
        },
        "id": "STdjg1N-vMNG",
        "outputId": "130cfcf6-f451-496c-d0d8-8f24efc3bacf"
      },
      "outputs": [
        {
          "output_type": "stream",
          "name": "stdout",
          "text": [
            "+------+-----+----+---+---+----+----------+------+----------+------+---------+------+---------+-----+-----------+----+----------+-----+-----+----+--------+----+--------+----+---------+-----+---+------------+----------------+----+-------+--------------------+------------------+------------------+----------+----------+\n",
            "|stn   |wban |year|mo |da |temp|count_temp|dewp  |count_dewp|slp   |count_slp|stp   |count_stp|visib|count_visib|wdsp|count_wdsp|mxpsd|gust |max |flag_max|min |flag_min|prcp|flag_prcp|sndp |fog|rain_drizzle|snow_ice_pellets|hail|thunder|tornado_funnel_cloud|temp_c            |wdsp_ms           |dt        |dt_num    |\n",
            "+------+-----+----+---+---+----+----------+------+----------+------+---------+------+---------+-----+-----------+----+----------+-----+-----+----+--------+----+--------+----+---------+-----+---+------------+----------------+----+-------+--------------------+------------------+------------------+----------+----------+\n",
            "|998258|99999|2017|03 |08 |32.9|11        |9999.9|0         |1009.2|11       |9999.9|0        |999.9|0          |5.6 |11        |13.0 |999.9|35.6|*       |30.7|*       |0.0 |I        |999.9|0  |0           |0               |0   |0      |0                   |0.4999999999999992|2.8808864         |2017-03-08|1488931200|\n",
            "|997194|99999|2017|10 |23 |52.1|13        |9999.9|0         |1002.3|13       |963.8 |13       |999.9|0          |2.8 |7         |5.8  |999.9|55.9|*       |46.9|*       |0.0 |I        |999.9|0  |0           |0               |0   |0      |0                   |11.166666666666668|1.4404432         |2017-10-23|1508716800|\n",
            "|995011|99999|2017|03 |04 |72.9|10        |9999.9|0         |1019.9|10       |9999.9|0        |999.9|0          |18.8|10        |19.4 |999.9|73.2|*       |72.5|*       |0.0 |I        |999.9|0  |0           |0               |0   |0      |0                   |22.722222222222225|9.671547200000001 |2017-03-04|1488585600|\n",
            "|998012|99999|2017|09 |01 |60.7|24        |9999.9|0         |1022.3|15       |9999.9|0        |999.9|0          |3.6 |15        |7.0  |999.9|72.0|*       |49.5|*       |0.0 |I        |999.9|0  |0           |0               |0   |0      |0                   |15.944444444444446|1.8519984         |2017-09-01|1504224000|\n",
            "|996080|99999|2017|05 |02 |58.4|12        |9999.9|0         |1017.2|12       |1017.0|12       |999.9|0          |14.2|12        |21.4 |999.9|59.5|*       |56.1|*       |0.0 |I        |999.9|0  |0           |0               |0   |0      |0                   |14.666666666666666|7.3051048         |2017-05-02|1493683200|\n",
            "|996170|99999|2017|08 |27 |75.6|14        |9999.9|0         |1016.6|14       |1016.4|14       |999.9|0          |3.7 |14        |5.8  |999.9|77.4|*       |73.2|*       |0.0 |I        |999.9|0  |0           |0               |0   |0      |0                   |24.22222222222222 |1.9034428         |2017-08-27|1503792000|\n",
            "|998166|99999|2017|05 |29 |64.1|24        |9999.9|0         |1008.5|14       |9999.9|0        |999.9|0          |9.7 |14        |18.1 |999.9|70.2|*       |61.5|*       |0.0 |I        |999.9|0  |0           |0               |0   |0      |0                   |17.833333333333332|4.9901067999999995|2017-05-29|1496016000|\n",
            "|995011|99999|2017|02 |07 |73.8|13        |9999.9|0         |1021.3|13       |9999.9|0        |999.9|0          |17.0|13        |19.4 |999.9|74.5|*       |73.0|*       |0.0 |I        |999.9|0  |0           |0               |0   |0      |0                   |23.22222222222222 |8.745548          |2017-02-07|1486425600|\n",
            "|869830|99999|2017|08 |18 |48.2|10        |9999.9|0         |1034.3|10       |994.0 |10       |999.9|0          |0.0 |10        |999.9|999.9|55.8|        |42.1|        |0.0 |I        |999.9|0  |0           |0               |0   |0      |0                   |9.000000000000002 |0.0               |2017-08-18|1503014400|\n",
            "|996170|99999|2017|05 |09 |58.4|14        |9999.9|0         |1011.6|14       |1011.4|14       |999.9|0          |13.6|14        |21.4 |999.9|59.7|*       |56.7|*       |0.0 |I        |999.9|0  |0           |0               |0   |0      |0                   |14.666666666666666|6.9964384         |2017-05-09|1494288000|\n",
            "+------+-----+----+---+---+----+----------+------+----------+------+---------+------+---------+-----+-----------+----+----------+-----+-----+----+--------+----+--------+----+---------+-----+---+------------+----------------+----+-------+--------------------+------------------+------------------+----------+----------+\n",
            "only showing top 10 rows\n",
            "\n"
          ]
        }
      ],
      "source": [
        "gsod.show(10, False)"
      ]
    },
    {
      "cell_type": "markdown",
      "metadata": {
        "id": "g5hs63akpNPY"
      },
      "source": [
        "Now select one station for demonstation purposes - let's just use `stn == 406370` for demo purposes."
      ]
    },
    {
      "cell_type": "code",
      "execution_count": 36,
      "metadata": {
        "id": "5MDi3IxjpYpC"
      },
      "outputs": [],
      "source": [
        "unixTimestamp = gsod.where(F.col('stn')== '406370')"
      ]
    },
    {
      "cell_type": "code",
      "execution_count": 37,
      "metadata": {
        "colab": {
          "base_uri": "https://localhost:8080/"
        },
        "id": "3esXw33EzB5Z",
        "outputId": "3bf928f8-38a2-4e07-f5ff-facd8197d364"
      },
      "outputs": [
        {
          "output_type": "stream",
          "name": "stdout",
          "text": [
            "887 36\n"
          ]
        }
      ],
      "source": [
        "print(unixTimestamp.count(), len(unixTimestamp.columns))"
      ]
    },
    {
      "cell_type": "markdown",
      "metadata": {
        "id": "CJge9Fhk9ydu"
      },
      "source": [
        "Convert this data sample toPandas() and make a nice line plot of `temp` vs. date. Remember to convert the date to a datetime and then set the index as the date column in order to get a nice looking graph."
      ]
    },
    {
      "cell_type": "code",
      "execution_count": 38,
      "metadata": {
        "id": "WvsI_dBwza4X"
      },
      "outputs": [],
      "source": [
        "# converting the dataframe to pandas\n",
        "unixTimestamp1 = unixTimestamp.toPandas()\n"
      ]
    },
    {
      "cell_type": "code",
      "execution_count": 39,
      "metadata": {
        "colab": {
          "base_uri": "https://localhost:8080/",
          "height": 486
        },
        "id": "DCi0zCDbzzgU",
        "outputId": "79165de7-b35b-4eba-c1e0-277ee5136373"
      },
      "outputs": [
        {
          "output_type": "display_data",
          "data": {
            "text/plain": [
              "<Figure size 640x480 with 1 Axes>"
            ],
            "image/png": "[encoded data removed]"
          },
          "metadata": {}
        }
      ],
      "source": [
        "#plotting unixTimestamp\n",
        "unixTimestamp1.plot(x=\"dt\", y='temp', kind=\"line\")\n",
        "plt.xticks(rotation = 45)\n",
        "plt.show()"
      ]
    },
    {
      "cell_type": "markdown",
      "metadata": {
        "id": "QUXgGhgq5pAV"
      },
      "source": [
        "Check to make sure there are no missing values in the `temp` column."
      ]
    },
    {
      "cell_type": "code",
      "execution_count": 40,
      "metadata": {
        "colab": {
          "base_uri": "https://localhost:8080/"
        },
        "id": "6O507YxGqifF",
        "outputId": "ad82a876-c055-4c56-8553-80bb9c61a91c"
      },
      "outputs": [
        {
          "output_type": "execute_result",
          "data": {
            "text/plain": [
              "0"
            ]
          },
          "metadata": {},
          "execution_count": 40
        }
      ],
      "source": [
        "(unixTimestamp1['temp'].isnull().values.sum())"
      ]
    },
    {
      "cell_type": "markdown",
      "metadata": {
        "id": "IMIRvTMxrBWQ"
      },
      "source": [
        "Check out the data quality of April 2018 and show 30 rows for this station. Make a comment about the data quality."
      ]
    },
    {
      "cell_type": "code",
      "execution_count": 41,
      "metadata": {
        "id": "5DF3psKQrFFI"
      },
      "outputs": [],
      "source": [
        "april2018 = gsod.where((F.col('year')=='2018')& (F.col('mo')=='04'))"
      ]
    },
    {
      "cell_type": "code",
      "execution_count": 42,
      "metadata": {
        "colab": {
          "base_uri": "https://localhost:8080/"
        },
        "id": "4rqkANh55Ea2",
        "outputId": "f6de1e64-dcc9-4625-827f-949c6dbf2731"
      },
      "outputs": [
        {
          "output_type": "stream",
          "name": "stdout",
          "text": [
            "+------+-----+----+---+---+----+----------+------+----------+------+---------+------+---------+-----+-----------+----+----------+-----+-----+----+--------+------+--------+----+---------+-----+---+------------+----------------+----+-------+--------------------+-------------------+------------------+----------+----------+\n",
            "|stn   |wban |year|mo |da |temp|count_temp|dewp  |count_dewp|slp   |count_slp|stp   |count_stp|visib|count_visib|wdsp|count_wdsp|mxpsd|gust |max |flag_max|min   |flag_min|prcp|flag_prcp|sndp |fog|rain_drizzle|snow_ice_pellets|hail|thunder|tornado_funnel_cloud|temp_c             |wdsp_ms           |dt        |dt_num    |\n",
            "+------+-----+----+---+---+----+----------+------+----------+------+---------+------+---------+-----+-----------+----+----------+-----+-----+----+--------+------+--------+----+---------+-----+---+------------+----------------+----+-------+--------------------+-------------------+------------------+----------+----------+\n",
            "|917350|99999|2018|04 |21 |82.6|9         |9999.9|0         |1006.9|9        |993.2 |9        |999.9|0          |3.7 |9         |8.5  |999.9|85.5|*       |74.5  |        |0.31|G        |999.9|0  |0           |0               |0   |0      |0                   |28.11111111111111  |1.9034428         |2018-04-21|1524268800|\n",
            "|992210|99999|2018|04 |07 |47.0|13        |9999.9|0         |983.2 |12       |982.8 |12       |999.9|0          |23.8|13        |29.1 |999.9|48.6|*       |45.9  |*       |0.0 |I        |999.9|0  |0           |0               |0   |0      |0                   |8.333333333333334  |12.2437672        |2018-04-07|1523059200|\n",
            "|994340|99999|2018|04 |23 |47.5|11        |9999.9|0         |1024.5|11       |1002.8|11       |999.9|0          |12.3|11        |15.9 |999.9|52.9|*       |44.4  |*       |0.0 |I        |999.9|0  |0           |0               |0   |0      |0                   |8.61111111111111   |6.3276612000000005|2018-04-23|1524441600|\n",
            "|997110|99999|2018|04 |20 |62.1|10        |9999.9|0         |1022.2|10       |9999.9|0        |999.9|0          |12.8|10        |15.5 |999.9|64.0|*       |60.6  |*       |0.0 |I        |999.9|0  |0           |0               |0   |0      |0                   |16.722222222222225 |6.5848832         |2018-04-20|1524182400|\n",
            "|994430|99999|2018|04 |24 |78.6|14        |9999.9|0         |1015.6|11       |9999.9|0        |999.9|0          |8.1 |14        |14.0 |999.9|79.3|*       |78.1  |*       |0.0 |I        |999.9|0  |0           |0               |0   |0      |0                   |25.888888888888886 |4.1669963999999995|2018-04-24|1524528000|\n",
            "|994140|99999|2018|04 |23 |46.3|11        |9999.9|0         |1030.7|11       |9999.9|0        |999.9|0          |12.1|11        |17.1 |999.9|48.9|*       |42.8  |*       |0.0 |I        |999.9|0  |0           |0               |0   |0      |0                   |7.944444444444443  |6.2247724         |2018-04-23|1524441600|\n",
            "|996170|99999|2018|04 |02 |56.2|10        |9999.9|0         |1013.2|10       |1013.0|10       |999.9|0          |14.2|10        |21.4 |999.9|57.0|*       |55.6  |*       |0.0 |I        |999.9|0  |0           |0               |0   |0      |0                   |13.444444444444446 |7.3051048         |2018-04-02|1522627200|\n",
            "|996870|99999|2018|04 |13 |47.3|11        |9999.9|0         |1017.6|11       |9999.9|0        |999.9|0          |17.1|11        |25.3 |999.9|50.0|*       |45.3  |*       |0.0 |I        |999.9|0  |0           |0               |0   |0      |0                   |8.499999999999998  |8.7969924         |2018-04-13|1523577600|\n",
            "|994973|99999|2018|04 |03 |29.7|24        |9999.9|0         |1013.8|12       |9999.9|0        |999.9|0          |0.0 |12        |999.9|999.9|31.8|*       |28.2  |*       |0.0 |I        |999.9|0  |0           |0               |0   |0      |0                   |-1.2777777777777781|0.0               |2018-04-03|1522713600|\n",
            "|029420|99999|2018|04 |17 |38.7|9         |9999.9|0         |1015.2|9        |1000.2|9        |0.7  |9          |4.9 |9         |7.8  |999.9|42.4|        |36.0  |*       |0.04|F        |6.7  |1  |1           |0               |0   |0      |0                   |3.722222222222224  |2.5207756000000003|2018-04-17|1523923200|\n",
            "|994250|99999|2018|04 |24 |57.4|12        |9999.9|0         |1022.0|12       |998.4 |12       |999.9|0          |6.5 |12        |14.0 |999.9|63.1|*       |50.9  |*       |0.0 |I        |999.9|0  |0           |0               |0   |0      |0                   |14.11111111111111  |3.343886          |2018-04-24|1524528000|\n",
            "|994430|99999|2018|04 |22 |78.5|9         |9999.9|0         |1017.8|9        |9999.9|0        |999.9|0          |10.8|9         |15.0 |999.9|79.2|*       |77.9  |*       |0.0 |I        |999.9|0  |0           |0               |0   |0      |0                   |25.833333333333336 |5.555995200000001 |2018-04-22|1524355200|\n",
            "|060090|99999|2018|04 |12 |32.0|11        |9999.9|0         |1015.6|11       |1002.7|11       |999.9|0          |0.0 |11        |999.9|999.9|45.7|        |9999.9|        |0.0 |I        |999.9|0  |0           |0               |0   |0      |0                   |0.0                |0.0               |2018-04-12|1523491200|\n",
            "|994973|99999|2018|04 |15 |27.4|24        |9999.9|0         |1019.9|9        |9999.9|0        |999.9|0          |0.0 |9         |2.3  |999.9|30.4|*       |24.4  |*       |0.0 |I        |999.9|0  |0           |0               |0   |0      |0                   |-2.5555555555555562|0.0               |2018-04-15|1523750400|\n",
            "|996870|99999|2018|04 |01 |47.5|12        |9999.9|0         |1016.0|12       |9999.9|0        |999.9|0          |9.4 |12        |15.5 |999.9|49.8|*       |42.3  |*       |0.0 |I        |999.9|0  |0           |0               |0   |0      |0                   |8.61111111111111   |4.8357736000000004|2018-04-01|1522540800|\n",
            "|992024|99999|2018|04 |24 |78.9|9         |9999.9|0         |1016.4|9        |1016.2|9        |999.9|0          |12.3|9         |13.6 |999.9|79.3|*       |78.1  |*       |0.0 |I        |999.9|0  |0           |0               |0   |0      |0                   |26.05555555555556  |6.3276612000000005|2018-04-24|1524528000|\n",
            "|996870|99999|2018|04 |25 |54.2|9         |9999.9|0         |1019.9|9        |9999.9|0        |999.9|0          |13.6|9         |15.5 |999.9|56.5|*       |51.6  |*       |0.0 |I        |999.9|0  |0           |0               |0   |0      |0                   |12.333333333333336 |6.9964384         |2018-04-25|1524614400|\n",
            "|997110|99999|2018|04 |13 |71.3|11        |9999.9|0         |1007.4|11       |9999.9|0        |999.9|0          |11.8|11        |15.5 |999.9|71.4|*       |70.9  |*       |0.0 |I        |999.9|0  |0           |0               |0   |0      |0                   |21.833333333333332 |6.070439200000001 |2018-04-13|1523577600|\n",
            "|997110|99999|2018|04 |04 |64.3|9         |9999.9|0         |1021.3|9        |9999.9|0        |999.9|0          |19.0|9         |23.3 |999.9|67.3|*       |60.6  |*       |0.0 |I        |999.9|0  |0           |0               |0   |0      |0                   |17.944444444444443 |9.774436          |2018-04-04|1522800000|\n",
            "|911620|22501|2018|04 |05 |75.4|24        |9999.9|0         |1012.1|11       |1011.4|11       |9.7  |24         |5.7 |24        |12.0 |15.9 |80.1|        |73.0  |        |0.1 |B        |999.9|0  |1           |0               |0   |0      |0                   |24.111111111111114 |2.9323308000000003|2018-04-05|1522886400|\n",
            "|997698|99999|2018|04 |16 |57.5|9         |9999.9|0         |998.2 |9        |9999.9|0        |999.9|0          |13.7|9         |19.0 |999.9|63.9|*       |48.9  |*       |0.0 |I        |999.9|0  |0           |0               |0   |0      |0                   |14.166666666666668 |7.0478828         |2018-04-16|1523836800|\n",
            "|997781|99999|2018|04 |01 |56.9|10        |9999.9|0         |1017.7|10       |9999.9|0        |999.9|0          |5.3 |10        |24.1 |999.9|61.3|*       |53.2  |*       |0.0 |I        |999.9|0  |0           |0               |0   |0      |0                   |13.833333333333334 |2.7265532         |2018-04-01|1522540800|\n",
            "|997110|99999|2018|04 |22 |64.9|9         |9999.9|0         |1015.6|9        |9999.9|0        |999.9|0          |11.7|9         |15.5 |999.9|70.0|*       |60.8  |*       |0.0 |I        |999.9|0  |0           |0               |0   |0      |0                   |18.277777777777782 |6.0189948         |2018-04-22|1524355200|\n",
            "|998485|99999|2018|04 |10 |69.9|10        |9999.9|0         |1017.0|10       |9999.9|0        |999.9|0          |9.2 |10        |15.9 |999.9|72.9|*       |67.6  |*       |0.0 |I        |999.9|0  |0           |0               |0   |0      |0                   |21.05555555555556  |4.7328848         |2018-04-10|1523318400|\n",
            "|075100|99999|2018|04 |07 |48.0|24        |9999.9|0         |1006.5|10       |1000.8|10       |10.4 |21         |6.8 |24        |13.0 |999.9|68.5|        |35.6  |*       |0.06|G        |999.9|0  |1           |0               |0   |0      |0                   |8.88888888888889   |3.4982192         |2018-04-07|1523059200|\n",
            "|997214|99999|2018|04 |06 |71.6|11        |9999.9|0         |1013.1|11       |9999.9|0        |999.9|0          |12.4|11        |13.6 |999.9|71.8|*       |71.4  |*       |0.0 |I        |999.9|0  |0           |0               |0   |0      |0                   |21.999999999999996 |6.3791056         |2018-04-06|1522972800|\n",
            "|998166|99999|2018|04 |06 |37.3|15        |9999.9|0         |1007.4|9        |9999.9|0        |999.9|0          |19.6|9         |26.0 |999.9|41.0|*       |33.8  |*       |0.0 |I        |999.9|0  |0           |0               |0   |0      |0                   |2.944444444444443  |10.083102400000001|2018-04-06|1522972800|\n",
            "|997281|99999|2018|04 |01 |59.5|10        |9999.9|0         |1016.6|10       |9999.9|0        |999.9|0          |8.6 |10        |13.0 |999.9|63.1|*       |53.1  |*       |0.0 |I        |999.9|0  |0           |0               |0   |0      |0                   |15.277777777777779 |4.4242184         |2018-04-01|1522540800|\n",
            "|725660|24028|2018|04 |21 |37.4|24        |9999.9|0         |1023.5|12       |884.6 |24       |6.2  |24         |8.0 |24        |15.9 |999.9|46.0|        |33.1  |        |0.13|G        |999.9|0  |1           |1               |0   |0      |0                   |2.9999999999999996 |4.115552          |2018-04-21|1524268800|\n",
            "|998339|99999|2018|04 |13 |41.6|10        |9999.9|0         |1010.3|10       |9999.9|0        |999.9|0          |0.0 |10        |999.9|999.9|47.1|*       |38.1  |*       |0.0 |I        |999.9|0  |0           |0               |0   |0      |0                   |5.333333333333334  |0.0               |2018-04-13|1523577600|\n",
            "+------+-----+----+---+---+----+----------+------+----------+------+---------+------+---------+-----+-----------+----+----------+-----+-----+----+--------+------+--------+----+---------+-----+---+------------+----------------+----+-------+--------------------+-------------------+------------------+----------+----------+\n",
            "only showing top 30 rows\n",
            "\n"
          ]
        }
      ],
      "source": [
        "april2018.show(30, False)"
      ]
    },
    {
      "cell_type": "code",
      "execution_count": 43,
      "metadata": {
        "colab": {
          "base_uri": "https://localhost:8080/"
        },
        "id": "fqvvzn-j_isw",
        "outputId": "d34945e6-107b-4501-ee36-2d04aee1b2f5"
      },
      "outputs": [
        {
          "output_type": "stream",
          "name": "stdout",
          "text": [
            "total unique stations for 2018 april: 11757\n"
          ]
        }
      ],
      "source": [
        "print(\"total unique stations for 2018 april:\", april2018.select('stn').distinct().count())\n",
        "count_april2018 = april2018.select('stn').groupby('stn').count().orderBy('count', ascending=False)"
      ]
    },
    {
      "cell_type": "code",
      "source": [
        "count_april2018.show()"
      ],
      "metadata": {
        "colab": {
          "base_uri": "https://localhost:8080/"
        },
        "id": "VMB3w4B75J9w",
        "outputId": "53f92d4c-80ae-46e4-9a1a-8d4d054eacb6"
      },
      "execution_count": 44,
      "outputs": [
        {
          "output_type": "stream",
          "name": "stdout",
          "text": [
            "+------+-----+\n",
            "|   stn|count|\n",
            "+------+-----+\n",
            "|999999| 6368|\n",
            "|721042|   60|\n",
            "|720854|   60|\n",
            "|720605|   60|\n",
            "|720643|   60|\n",
            "|722369|   60|\n",
            "|720625|   60|\n",
            "|720637|   60|\n",
            "|725294|   60|\n",
            "|720577|   60|\n",
            "|720415|   60|\n",
            "|749171|   60|\n",
            "|721045|   60|\n",
            "|720631|   60|\n",
            "|722368|   60|\n",
            "|720636|   60|\n",
            "|720578|   60|\n",
            "|720607|   60|\n",
            "|722231|   60|\n",
            "|720927|   60|\n",
            "+------+-----+\n",
            "only showing top 20 rows\n",
            "\n"
          ]
        }
      ]
    },
    {
      "cell_type": "markdown",
      "source": [
        "Here I can see that after ordering count_april2018 by count, the max number of observations that I have for april 2018 is 60, so after checking the percentage I can see that it is very low, hence, the data quality in our opinion is not good."
      ],
      "metadata": {
        "id": "5xj2DL6D7SoM"
      }
    },
    {
      "cell_type": "code",
      "source": [
        "# number of stn that have 60 observations, except for 999999\n",
        "(count_april2018.where(F.col('count') == '60').count())"
      ],
      "metadata": {
        "colab": {
          "base_uri": "https://localhost:8080/"
        },
        "id": "x7gGKxlv6qWA",
        "outputId": "3f019b62-bde9-4be7-8204-12a17b4168ea"
      },
      "execution_count": 45,
      "outputs": [
        {
          "output_type": "execute_result",
          "data": {
            "text/plain": [
              "121"
            ]
          },
          "metadata": {},
          "execution_count": 45
        }
      ]
    },
    {
      "cell_type": "code",
      "source": [
        "# total number for rows\n",
        "(april2018.select('stn').count())"
      ],
      "metadata": {
        "colab": {
          "base_uri": "https://localhost:8080/"
        },
        "id": "1KgDeCoX61Eq",
        "outputId": "63efbe62-0dea-486f-ee86-09d70d0c30e4"
      },
      "execution_count": 46,
      "outputs": [
        {
          "output_type": "execute_result",
          "data": {
            "text/plain": [
              "344096"
            ]
          },
          "metadata": {},
          "execution_count": 46
        }
      ]
    },
    {
      "cell_type": "code",
      "source": [
        "# percentage of rows that have 60 observations\n",
        "((count_april2018.where(F.col('count') == '60').count())/(april2018.select('stn').count()))*100"
      ],
      "metadata": {
        "colab": {
          "base_uri": "https://localhost:8080/"
        },
        "id": "w7PHl4RO4WDd",
        "outputId": "bd5f16ca-e562-4228-be77-ba3cf75312a0"
      },
      "execution_count": 47,
      "outputs": [
        {
          "output_type": "execute_result",
          "data": {
            "text/plain": [
              "0.03516460522644844"
            ]
          },
          "metadata": {},
          "execution_count": 47
        }
      ]
    },
    {
      "cell_type": "markdown",
      "metadata": {
        "id": "puDZM924r5Pf"
      },
      "source": [
        "Create the window function for a 3 day rolling temperature (remember - time matters!) The window should be composed of today, yesterday, and two days ago."
      ]
    },
    {
      "cell_type": "code",
      "execution_count": 48,
      "metadata": {
        "id": "ayWpkPQy-cX3"
      },
      "outputs": [],
      "source": [
        "from pyspark.sql.window import Window\n",
        "\n",
        "one_day_sec = 60 * 60 * 24\n",
        "\n",
        "one_day_before_and_after = (\n",
        " Window.partitionBy(\"dt\")\n",
        " .orderBy(\"dt_num\")\n",
        ")"
      ]
    },
    {
      "cell_type": "code",
      "source": [
        "unixTimestamp = unixTimestamp.withColumn('dt', F.col('dt').cast('timestamp'))"
      ],
      "metadata": {
        "id": "SY0dlpzxq_XS"
      },
      "execution_count": 49,
      "outputs": []
    },
    {
      "cell_type": "code",
      "source": [
        "#counting the seconds days\n",
        "days = lambda i: i * 86400"
      ],
      "metadata": {
        "id": "nSC2CmQsrCT6"
      },
      "execution_count": 50,
      "outputs": []
    },
    {
      "cell_type": "code",
      "source": [
        "window_spec = Window.orderBy(unixTimestamp.dt.cast('long')).rangeBetween(-days(3), 0)\n",
        "rolling_temp = F.avg(unixTimestamp.temp).over(window_spec)"
      ],
      "metadata": {
        "id": "IK2TgBukrFJR"
      },
      "execution_count": 51,
      "outputs": []
    },
    {
      "cell_type": "code",
      "source": [
        "# making new column\n",
        "unixTimestamp = unixTimestamp.withColumn(\"avg_rolling_temp\", rolling_temp)"
      ],
      "metadata": {
        "id": "heGSGEJ_rJIx"
      },
      "execution_count": 52,
      "outputs": []
    },
    {
      "cell_type": "code",
      "source": [
        "unixTimestamp.show(10, False)"
      ],
      "metadata": {
        "colab": {
          "base_uri": "https://localhost:8080/"
        },
        "id": "751nZ-SkuFBn",
        "outputId": "25a5e236-0c6a-4ddf-d18f-df2317c8596b"
      },
      "execution_count": 53,
      "outputs": [
        {
          "output_type": "stream",
          "name": "stdout",
          "text": [
            "+------+-----+----+---+---+----+----------+----+----------+------+---------+------+---------+-----+-----------+----+----------+-----+-----+----+--------+----+--------+----+---------+-----+---+------------+----------------+----+-------+--------------------+------------------+---------+-------------------+----------+------------------+\n",
            "|stn   |wban |year|mo |da |temp|count_temp|dewp|count_dewp|slp   |count_slp|stp   |count_stp|visib|count_visib|wdsp|count_wdsp|mxpsd|gust |max |flag_max|min |flag_min|prcp|flag_prcp|sndp |fog|rain_drizzle|snow_ice_pellets|hail|thunder|tornado_funnel_cloud|temp_c            |wdsp_ms  |dt                 |dt_num    |avg_rolling_temp  |\n",
            "+------+-----+----+---+---+----+----------+----+----------+------+---------+------+---------+-----+-----------+----+----------+-----+-----+----+--------+----+--------+----+---------+-----+---+------------+----------------+----+-------+--------------------+------------------+---------+-------------------+----------+------------------+\n",
            "|406370|99999|2017|01 |03 |47.4|7         |43.2|7         |1023.2|7        |9999.9|0        |6.2  |7          |0.9 |0         |999.9|999.9|60.8|        |40.6|*       |0.0 |E        |999.9|0  |0           |0               |0   |0      |0                   |8.555555555555555 |0.4629996|2017-01-03 00:00:00|1483401600|47.4              |\n",
            "|406370|99999|2017|01 |04 |46.5|4         |42.0|4         |1023.5|4        |9999.9|0        |6.2  |4          |0.9 |0         |999.9|999.9|62.1|        |33.8|        |0.0 |F        |999.9|0  |0           |0               |0   |0      |0                   |8.055555555555555 |0.4629996|2017-01-04 00:00:00|1483488000|46.95             |\n",
            "|406370|99999|2017|01 |05 |48.3|6         |44.7|6         |1026.6|6        |9999.9|0        |6.2  |6          |0.9 |0         |999.9|999.9|61.7|        |32.0|        |0.0 |F        |999.9|0  |0           |0               |0   |0      |0                   |9.055555555555554 |0.4629996|2017-01-05 00:00:00|1483574400|47.4              |\n",
            "|406370|99999|2017|01 |06 |45.7|7         |41.2|7         |1023.8|7        |9999.9|0        |5.8  |7          |0.9 |0         |999.9|999.9|64.4|        |33.4|        |0.0 |F        |999.9|0  |0           |0               |0   |0      |0                   |7.611111111111113 |0.4629996|2017-01-06 00:00:00|1483660800|46.974999999999994|\n",
            "|406370|99999|2017|01 |07 |50.8|5         |45.8|5         |1019.0|5        |9999.9|0        |6.2  |5          |0.9 |0         |999.9|999.9|69.8|        |39.2|*       |0.0 |E        |999.9|0  |0           |0               |0   |0      |0                   |10.444444444444443|0.4629996|2017-01-07 00:00:00|1483747200|47.825            |\n",
            "|406370|99999|2017|01 |08 |51.0|5         |44.7|4         |1015.8|4        |9999.9|0        |6.2  |5          |0.9 |0         |999.9|999.9|69.4|        |37.4|        |0.0 |F        |999.9|0  |0           |0               |0   |0      |0                   |10.555555555555555|0.4629996|2017-01-08 00:00:00|1483833600|48.95             |\n",
            "|406370|99999|2017|01 |09 |56.6|6         |48.1|6         |1015.7|6        |9999.9|0        |6.2  |6          |0.9 |0         |999.9|999.9|70.9|        |42.8|        |0.0 |F        |999.9|0  |0           |0               |0   |0      |0                   |13.666666666666668|0.4629996|2017-01-09 00:00:00|1483920000|51.025            |\n",
            "|406370|99999|2017|01 |10 |53.3|6         |46.9|6         |1021.9|6        |9999.9|0        |6.2  |6          |0.9 |0         |999.9|999.9|65.3|        |40.1|        |0.0 |F        |999.9|0  |0           |0               |0   |0      |0                   |11.833333333333332|0.4629996|2017-01-10 00:00:00|1484006400|52.925            |\n",
            "|406370|99999|2017|01 |11 |51.9|5         |44.3|5         |1023.4|5        |9999.9|0        |6.2  |5          |0.9 |0         |999.9|999.9|68.0|        |40.1|*       |0.0 |E        |999.9|0  |0           |0               |0   |0      |0                   |11.055555555555555|0.4629996|2017-01-11 00:00:00|1484092800|53.199999999999996|\n",
            "|406370|99999|2017|01 |12 |52.2|5         |44.9|5         |1020.9|5        |9999.9|0        |6.2  |5          |0.9 |0         |999.9|999.9|66.6|        |32.0|        |0.0 |F        |999.9|0  |0           |0               |0   |0      |0                   |11.222222222222225|0.4629996|2017-01-12 00:00:00|1484179200|53.5              |\n",
            "+------+-----+----+---+---+----+----------+----+----------+------+---------+------+---------+-----+-----------+----+----------+-----+-----+----+--------+----+--------+----+---------+-----+---+------------+----------------+----+-------+--------------------+------------------+---------+-------------------+----------+------------------+\n",
            "only showing top 10 rows\n",
            "\n"
          ]
        }
      ]
    },
    {
      "cell_type": "markdown",
      "metadata": {
        "id": "IXm2ORMevBzt"
      },
      "source": [
        "Make a line plot with the raw temperature value (in blue) and the rolling window temperature value (in orange)."
      ]
    },
    {
      "cell_type": "code",
      "source": [
        "unixTimestamp = unixTimestamp.toPandas()"
      ],
      "metadata": {
        "id": "Wx9IfcY3qPfK"
      },
      "execution_count": 54,
      "outputs": []
    },
    {
      "cell_type": "code",
      "source": [
        "unixTimestamp.plot(x = 'dt', y = ['temp', 'avg_rolling_temp'])\n",
        "plt.legend()\n",
        "plt.show()"
      ],
      "metadata": {
        "colab": {
          "base_uri": "https://localhost:8080/",
          "height": 433
        },
        "id": "LoGJ9YeCw5oT",
        "outputId": "2df5680b-1c13-41e7-ef0e-40f9eb8f8020"
      },
      "execution_count": 55,
      "outputs": [
        {
          "output_type": "display_data",
          "data": {
            "text/plain": [
              "<Figure size 640x480 with 1 Axes>"
            ],
            "image/png": "[encoded data removed]"
          },
          "metadata": {}
        }
      ]
    },
    {
      "cell_type": "markdown",
      "metadata": {
        "id": "idAc91xtbJ1w"
      },
      "source": [
        "# 🔵 (20 pts total) Pandas UDFs and/or Window Functions"
      ]
    },
    {
      "cell_type": "markdown",
      "metadata": {
        "id": "pqdIik0S-j3h"
      },
      "source": [
        "This is probably the hardest part of the project - spend some time on this and try a few different approaches if needed! I recommend just using a single station with all observations - how about station 406370?"
      ]
    },
    {
      "cell_type": "markdown",
      "metadata": {
        "id": "yUIA9A2QygTo"
      },
      "source": [
        "## Consecutive Values Above Threshold\n",
        "I would like a new column in the PySpark DataFrame that contains the maximum consecutive values above a threshold (>=90 degF).\n",
        "\n",
        "If the raw values are [91, 89, 88, 93, 94, 101, 85], then the output should be [1, 0, 0, 1, 2, 3, 0]. You are summing cumulative logical values!"
      ]
    },
    {
      "cell_type": "markdown",
      "metadata": {
        "id": "zrwIAKqH_Nsg"
      },
      "source": [
        "Now go code it up!"
      ]
    },
    {
      "cell_type": "code",
      "source": [
        "import numpy as np\n",
        "import pandas as pd\n",
        "\n",
        "# getting the data for station 406370\n",
        "consec = gsod.where(F.col('stn') == '406370').select(F.col('*'))"
      ],
      "metadata": {
        "id": "SPw30k9rS87D"
      },
      "execution_count": 56,
      "outputs": []
    },
    {
      "cell_type": "code",
      "source": [
        "# Creating a window partitioned by station and ordered by date\n",
        "window_spec = Window.partitionBy('stn').orderBy('dt')\n",
        "\n",
        "# Creating a new column 'above_threshold' which is 1 if temp >= 90 and 0 otherwise\n",
        "consec = consec.withColumn('above_threshold', F.when(F.col('temp') >= 90, 1).otherwise(0))"
      ],
      "metadata": {
        "id": "EXN3X5ILS-sh"
      },
      "execution_count": 57,
      "outputs": []
    },
    {
      "cell_type": "code",
      "source": [
        "# converting dataframe to pandas\n",
        "consec = consec.toPandas()"
      ],
      "metadata": {
        "id": "iALlwoVPTAvN"
      },
      "execution_count": 58,
      "outputs": []
    },
    {
      "cell_type": "code",
      "source": [
        "# assigning a unique counter value to each consecutive sequence of identical values in the \"temp\" column\n",
        "consec['counter'] = consec['temp'].diff().ne(0).cumsum()"
      ],
      "metadata": {
        "id": "8aRo-zr7TCOz"
      },
      "execution_count": 59,
      "outputs": []
    },
    {
      "cell_type": "code",
      "source": [
        "# finding the minimum value of the above_threshold column for each group of consecutive values\n",
        "consec.groupby('counter')['above_threshold'].min()"
      ],
      "metadata": {
        "colab": {
          "base_uri": "https://localhost:8080/"
        },
        "id": "B-UyIVLUTDkA",
        "outputId": "c69a3027-fce2-4742-f18d-8a11d1d06ac1"
      },
      "execution_count": 60,
      "outputs": [
        {
          "output_type": "execute_result",
          "data": {
            "text/plain": [
              "counter\n",
              "1      1\n",
              "2      1\n",
              "3      0\n",
              "4      1\n",
              "5      0\n",
              "      ..\n",
              "880    1\n",
              "881    0\n",
              "882    0\n",
              "883    0\n",
              "884    0\n",
              "Name: above_threshold, Length: 884, dtype: int32"
            ]
          },
          "metadata": {},
          "execution_count": 60
        }
      ]
    },
    {
      "cell_type": "code",
      "source": [
        "# Calculate consecutive 1s\n",
        "consec['consec_temp'] = consec.loc[consec['above_threshold'] == 1].groupby((consec['above_threshold'] != 1).cumsum()).cumcount() + 1\n",
        "consec['consec_temp'] = consec['consec_temp'].where(consec['above_threshold'] == 1, '')\n",
        "consec['consec_temp'] = consec['consec_temp'].replace('', '0')\n",
        "consec['consec_temp'] = consec['consec_temp'].astype(int)\n",
        "consec.head(60)"
      ],
      "metadata": {
        "colab": {
          "base_uri": "https://localhost:8080/",
          "height": 1000
        },
        "id": "kjrl0kXOS0l8",
        "outputId": "f0a868e5-b33e-44d1-a06b-e51b0cd9b8f8"
      },
      "execution_count": 61,
      "outputs": [
        {
          "output_type": "execute_result",
          "data": {
            "text/plain": [
              "       stn   wban  year  mo  da   temp  count_temp    dewp  count_dewp  \\\n",
              "0   406370  99999  2017  07  06  103.4           4  9999.9           0   \n",
              "1   406370  99999  2017  07  14   95.3           4    53.8           4   \n",
              "2   406370  99999  2017  02  04   44.6           4    38.1           4   \n",
              "3   406370  99999  2017  07  13  101.8           4    55.2           4   \n",
              "4   406370  99999  2017  02  27   60.3           4    43.6           4   \n",
              "5   406370  99999  2017  07  25  100.0           4    53.0           4   \n",
              "6   406370  99999  2017  08  28   99.6           4    52.5           4   \n",
              "7   406370  99999  2017  11  15   72.1           4    46.8           4   \n",
              "8   406370  99999  2017  10  14   83.2           4    50.6           4   \n",
              "9   406370  99999  2017  12  30   67.6           4    49.4           4   \n",
              "10  406370  99999  2017  01  08   51.0           5    44.7           4   \n",
              "11  406370  99999  2017  12  05   61.4           4    43.7           4   \n",
              "12  406370  99999  2017  08  29  104.8           4    51.2           4   \n",
              "13  406370  99999  2017  04  13   89.9           4    57.5           4   \n",
              "14  406370  99999  2017  08  15  100.3           4    54.1           4   \n",
              "15  406370  99999  2017  05  24   85.3           4    55.4           4   \n",
              "16  406370  99999  2017  08  25   99.6           5    52.1           5   \n",
              "17  406370  99999  2017  09  20   98.4           5    52.4           5   \n",
              "18  406370  99999  2017  04  29   86.8           5    57.8           5   \n",
              "19  406370  99999  2017  11  07   81.0           5    57.0           5   \n",
              "20  406370  99999  2017  10  18   72.9           5    52.1           5   \n",
              "21  406370  99999  2017  07  26  104.4           5    54.8           5   \n",
              "22  406370  99999  2017  10  03   88.4           5    49.6           5   \n",
              "23  406370  99999  2017  05  09   87.2           5    52.1           5   \n",
              "24  406370  99999  2017  02  13   53.1           5    48.6           5   \n",
              "25  406370  99999  2017  03  16   59.6           5    50.5           5   \n",
              "26  406370  99999  2017  06  01   84.9           5    48.6           5   \n",
              "27  406370  99999  2017  10  19   76.6           5    51.9           5   \n",
              "28  406370  99999  2017  09  16   94.4           5    51.4           5   \n",
              "29  406370  99999  2017  07  28  106.5           5    56.8           5   \n",
              "30  406370  99999  2017  04  03   63.0           5    51.1           5   \n",
              "31  406370  99999  2017  03  14   62.0           5    49.9           5   \n",
              "32  406370  99999  2017  08  31  103.8           5    52.7           5   \n",
              "33  406370  99999  2017  11  29   57.6           5    43.6           5   \n",
              "34  406370  99999  2017  02  17   42.5           5    37.0           5   \n",
              "35  406370  99999  2017  01  07   50.8           5    45.8           5   \n",
              "36  406370  99999  2017  07  02  106.5           5    55.2           5   \n",
              "37  406370  99999  2017  08  21  104.0           5    54.9           5   \n",
              "38  406370  99999  2017  05  10   90.5           5    54.2           5   \n",
              "39  406370  99999  2017  11  12   68.3           5    50.6           5   \n",
              "40  406370  99999  2017  02  16   48.1           6    42.6           5   \n",
              "41  406370  99999  2017  12  20   58.9           5    47.8           5   \n",
              "42  406370  99999  2017  07  05  106.4           5    56.7           5   \n",
              "43  406370  99999  2017  05  03   83.2           6    58.2           6   \n",
              "44  406370  99999  2017  10  16   78.6           6    52.9           6   \n",
              "45  406370  99999  2017  12  19   63.4           6    43.8           6   \n",
              "46  406370  99999  2017  12  08   51.3           6    40.2           6   \n",
              "47  406370  99999  2017  06  18   99.6           6    56.1           5   \n",
              "48  406370  99999  2017  08  27   98.6           6    52.2           6   \n",
              "49  406370  99999  2017  05  01   87.3           6    58.2           6   \n",
              "50  406370  99999  2017  02  28   63.0           6    47.5           6   \n",
              "51  406370  99999  2017  09  30   95.5           6    49.2           6   \n",
              "52  406370  99999  2017  08  07  106.0           6    53.6           6   \n",
              "53  406370  99999  2017  11  23   58.2           6    46.6           6   \n",
              "54  406370  99999  2017  03  15   62.4           6    47.5           6   \n",
              "55  406370  99999  2017  03  31   62.7           6    54.2           6   \n",
              "56  406370  99999  2017  07  21  101.8           6    55.7           6   \n",
              "57  406370  99999  2017  07  22  107.9           6    57.0           6   \n",
              "58  406370  99999  2017  12  29   65.9           6    49.4           6   \n",
              "59  406370  99999  2017  01  23   53.7           6    46.6           6   \n",
              "\n",
              "       slp  ...  hail  thunder  tornado_funnel_cloud     temp_c   wdsp_ms  \\\n",
              "0   9999.9  ...     0        0                     0  39.666667  0.463000   \n",
              "1   9999.9  ...     0        0                     0  35.166667  0.463000   \n",
              "2   1028.5  ...     0        0                     0   7.000000  0.463000   \n",
              "3    997.6  ...     0        0                     0  38.777778  0.463000   \n",
              "4   1018.5  ...     0        0                     0  15.722222  0.463000   \n",
              "5    997.3  ...     0        0                     0  37.777778  0.463000   \n",
              "6   1000.6  ...     0        0                     0  37.555556  0.463000   \n",
              "7   1015.6  ...     0        0                     0  22.277778  0.463000   \n",
              "8   1010.8  ...     0        0                     0  28.444444  0.463000   \n",
              "9   1019.7  ...     0        0                     0  19.777778  0.463000   \n",
              "10  1015.8  ...     0        0                     0  10.555556  0.463000   \n",
              "11  1019.3  ...     0        0                     0  16.333333  0.463000   \n",
              "12  1000.6  ...     0        0                     0  40.444444  0.463000   \n",
              "13  1009.7  ...     0        0                     0  32.166667  2.520776   \n",
              "14  1000.8  ...     0        0                     0  37.944444  0.463000   \n",
              "15  1010.6  ...     0        0                     0  29.611111  0.463000   \n",
              "16  1002.1  ...     0        0                     0  37.555556  0.463000   \n",
              "17  1006.3  ...     0        0                     0  36.888889  2.520776   \n",
              "18  1007.7  ...     0        0                     0  30.444444  0.463000   \n",
              "19  1017.5  ...     0        0                     0  27.222222  0.463000   \n",
              "20  1014.7  ...     0        0                     0  22.722222  0.463000   \n",
              "21   998.3  ...     0        0                     0  40.222222  0.463000   \n",
              "22  1011.1  ...     0        0                     0  31.333333  0.463000   \n",
              "23  1012.9  ...     0        0                     0  30.666667  1.491888   \n",
              "24  1013.9  ...     0        0                     0  11.722222  0.463000   \n",
              "25  1010.5  ...     0        0                     0  15.333333  0.463000   \n",
              "26  1007.8  ...     0        0                     0  29.388889  1.388999   \n",
              "27  1016.5  ...     0        0                     0  24.777778  0.463000   \n",
              "28  1005.6  ...     0        0                     0  34.666667  0.463000   \n",
              "29   999.9  ...     0        0                     0  41.388889  0.463000   \n",
              "30  1015.5  ...     0        0                     0  17.222222  0.463000   \n",
              "31  1016.4  ...     0        0                     0  16.666667  2.006332   \n",
              "32  1001.6  ...     0        0                     0  39.888889  0.463000   \n",
              "33  1021.7  ...     0        0                     0  14.222222  0.463000   \n",
              "34  1017.9  ...     0        0                     0   5.833333  2.006332   \n",
              "35  1019.0  ...     0        0                     0  10.444444  0.463000   \n",
              "36   998.0  ...     0        0                     0  41.388889  2.726553   \n",
              "37  1000.7  ...     0        0                     0  40.000000  0.463000   \n",
              "38  1009.5  ...     0        0                     0  32.500000  1.800554   \n",
              "39  1019.0  ...     0        0                     0  20.166667  0.463000   \n",
              "40  1017.2  ...     0        0                     0   8.944444  0.463000   \n",
              "41  1025.9  ...     0        0                     0  14.944444  0.463000   \n",
              "42   996.6  ...     0        0                     0  41.333333  0.463000   \n",
              "43  1008.9  ...     0        0                     0  28.444444  2.726553   \n",
              "44  1011.2  ...     0        0                     0  25.888889  0.463000   \n",
              "45  1025.2  ...     0        0                     0  17.444444  0.463000   \n",
              "46  1023.6  ...     0        0                     0  10.722222  0.463000   \n",
              "47  1000.9  ...     0        0                     0  37.555556  0.463000   \n",
              "48   999.1  ...     0        0                     0  37.000000  0.463000   \n",
              "49  1009.2  ...     0        0                     0  30.722222  0.463000   \n",
              "50  1020.0  ...     0        0                     0  17.222222  0.463000   \n",
              "51  1007.2  ...     0        0                     0  35.277778  0.463000   \n",
              "52   999.5  ...     0        0                     0  41.111111  0.463000   \n",
              "53  1016.4  ...     0        0                     0  14.555556  0.463000   \n",
              "54  1014.2  ...     0        0                     0  16.888889  2.006332   \n",
              "55  1017.0  ...     0        0                     0  17.055556  1.491888   \n",
              "56   997.9  ...     0        0                     0  38.777778  0.463000   \n",
              "57   997.8  ...     0        0                     0  42.166667  2.623664   \n",
              "58  1022.2  ...     0        0                     0  18.833333  0.463000   \n",
              "59  1022.1  ...     0        0                     0  12.055556  0.463000   \n",
              "\n",
              "            dt      dt_num above_threshold  counter  consec_temp  \n",
              "0   2017-07-06  1499299200               1        1            1  \n",
              "1   2017-07-14  1499990400               1        2            2  \n",
              "2   2017-02-04  1486166400               0        3            0  \n",
              "3   2017-07-13  1499904000               1        4            1  \n",
              "4   2017-02-27  1488153600               0        5            0  \n",
              "5   2017-07-25  1500940800               1        6            1  \n",
              "6   2017-08-28  1503878400               1        7            2  \n",
              "7   2017-11-15  1510704000               0        8            0  \n",
              "8   2017-10-14  1507939200               0        9            0  \n",
              "9   2017-12-30  1514592000               0       10            0  \n",
              "10  2017-01-08  1483833600               0       11            0  \n",
              "11  2017-12-05  1512432000               0       12            0  \n",
              "12  2017-08-29  1503964800               1       13            1  \n",
              "13  2017-04-13  1492041600               0       14            0  \n",
              "14  2017-08-15  1502755200               1       15            1  \n",
              "15  2017-05-24  1495584000               0       16            0  \n",
              "16  2017-08-25  1503619200               1       17            1  \n",
              "17  2017-09-20  1505865600               1       18            2  \n",
              "18  2017-04-29  1493424000               0       19            0  \n",
              "19  2017-11-07  1510012800               0       20            0  \n",
              "20  2017-10-18  1508284800               0       21            0  \n",
              "21  2017-07-26  1501027200               1       22            1  \n",
              "22  2017-10-03  1506988800               0       23            0  \n",
              "23  2017-05-09  1494288000               0       24            0  \n",
              "24  2017-02-13  1486944000               0       25            0  \n",
              "25  2017-03-16  1489622400               0       26            0  \n",
              "26  2017-06-01  1496275200               0       27            0  \n",
              "27  2017-10-19  1508371200               0       28            0  \n",
              "28  2017-09-16  1505520000               1       29            1  \n",
              "29  2017-07-28  1501200000               1       30            2  \n",
              "30  2017-04-03  1491177600               0       31            0  \n",
              "31  2017-03-14  1489449600               0       32            0  \n",
              "32  2017-08-31  1504137600               1       33            1  \n",
              "33  2017-11-29  1511913600               0       34            0  \n",
              "34  2017-02-17  1487289600               0       35            0  \n",
              "35  2017-01-07  1483747200               0       36            0  \n",
              "36  2017-07-02  1498953600               1       37            1  \n",
              "37  2017-08-21  1503273600               1       38            2  \n",
              "38  2017-05-10  1494374400               1       39            3  \n",
              "39  2017-11-12  1510444800               0       40            0  \n",
              "40  2017-02-16  1487203200               0       41            0  \n",
              "41  2017-12-20  1513728000               0       42            0  \n",
              "42  2017-07-05  1499212800               1       43            1  \n",
              "43  2017-05-03  1493769600               0       44            0  \n",
              "44  2017-10-16  1508112000               0       45            0  \n",
              "45  2017-12-19  1513641600               0       46            0  \n",
              "46  2017-12-08  1512691200               0       47            0  \n",
              "47  2017-06-18  1497744000               1       48            1  \n",
              "48  2017-08-27  1503792000               1       49            2  \n",
              "49  2017-05-01  1493596800               0       50            0  \n",
              "50  2017-02-28  1488240000               0       51            0  \n",
              "51  2017-09-30  1506729600               1       52            1  \n",
              "52  2017-08-07  1502064000               1       53            2  \n",
              "53  2017-11-23  1511395200               0       54            0  \n",
              "54  2017-03-15  1489536000               0       55            0  \n",
              "55  2017-03-31  1490918400               0       56            0  \n",
              "56  2017-07-21  1500595200               1       57            1  \n",
              "57  2017-07-22  1500681600               1       58            2  \n",
              "58  2017-12-29  1514505600               0       59            0  \n",
              "59  2017-01-23  1485129600               0       60            0  \n",
              "\n",
              "[60 rows x 39 columns]"
            ],
            "text/html": [
              "\n",
              "  <div id=\"df-cd85d3a2-a67f-4b02-a4c4-5b2acc4f321a\" class=\"colab-df-container\">\n",
              "    <div>\n",
              "<style scoped>\n",
              "    .dataframe tbody tr th:only-of-type {\n",
              "        vertical-align: middle;\n",
              "    }\n",
              "\n",
              "    .dataframe tbody tr th {\n",
              "        vertical-align: top;\n",
              "    }\n",
              "\n",
              "    .dataframe thead th {\n",
              "        text-align: right;\n",
              "    }\n",
              "</style>\n",
              "<table border=\"1\" class=\"dataframe\">\n",
              "  <thead>\n",
              "    <tr style=\"text-align: right;\">\n",
              "      <th></th>\n",
              "      <th>stn</th>\n",
              "      <th>wban</th>\n",
              "      <th>year</th>\n",
              "      <th>mo</th>\n",
              "      <th>da</th>\n",
              "      <th>temp</th>\n",
              "      <th>count_temp</th>\n",
              "      <th>dewp</th>\n",
              "      <th>count_dewp</th>\n",
              "      <th>slp</th>\n",
              "      <th>...</th>\n",
              "      <th>hail</th>\n",
              "      <th>thunder</th>\n",
              "      <th>tornado_funnel_cloud</th>\n",
              "      <th>temp_c</th>\n",
              "      <th>wdsp_ms</th>\n",
              "      <th>dt</th>\n",
              "      <th>dt_num</th>\n",
              "      <th>above_threshold</th>\n",
              "      <th>counter</th>\n",
              "      <th>consec_temp</th>\n",
              "    </tr>\n",
              "  </thead>\n",
              "  <tbody>\n",
              "    <tr>\n",
              "      <th>0</th>\n",
              "      <td>406370</td>\n",
              "      <td>99999</td>\n",
              "      <td>2017</td>\n",
              "      <td>07</td>\n",
              "      <td>06</td>\n",
              "      <td>103.4</td>\n",
              "      <td>4</td>\n",
              "      <td>9999.9</td>\n",
              "      <td>0</td>\n",
              "      <td>9999.9</td>\n",
              "      <td>...</td>\n",
              "      <td>0</td>\n",
              "      <td>0</td>\n",
              "      <td>0</td>\n",
              "      <td>39.666667</td>\n",
              "      <td>0.463000</td>\n",
              "      <td>2017-07-06</td>\n",
              "      <td>1499299200</td>\n",
              "      <td>1</td>\n",
              "      <td>1</td>\n",
              "      <td>1</td>\n",
              "    </tr>\n",
              "    <tr>\n",
              "      <th>1</th>\n",
              "      <td>406370</td>\n",
              "      <td>99999</td>\n",
              "      <td>2017</td>\n",
              "      <td>07</td>\n",
              "      <td>14</td>\n",
              "      <td>95.3</td>\n",
              "      <td>4</td>\n",
              "      <td>53.8</td>\n",
              "      <td>4</td>\n",
              "      <td>9999.9</td>\n",
              "      <td>...</td>\n",
              "      <td>0</td>\n",
              "      <td>0</td>\n",
              "      <td>0</td>\n",
              "      <td>35.166667</td>\n",
              "      <td>0.463000</td>\n",
              "      <td>2017-07-14</td>\n",
              "      <td>1499990400</td>\n",
              "      <td>1</td>\n",
              "      <td>2</td>\n",
              "      <td>2</td>\n",
              "    </tr>\n",
              "    <tr>\n",
              "      <th>2</th>\n",
              "      <td>406370</td>\n",
              "      <td>99999</td>\n",
              "      <td>2017</td>\n",
              "      <td>02</td>\n",
              "      <td>04</td>\n",
              "      <td>44.6</td>\n",
              "      <td>4</td>\n",
              "      <td>38.1</td>\n",
              "      <td>4</td>\n",
              "      <td>1028.5</td>\n",
              "      <td>...</td>\n",
              "      <td>0</td>\n",
              "      <td>0</td>\n",
              "      <td>0</td>\n",
              "      <td>7.000000</td>\n",
              "      <td>0.463000</td>\n",
              "      <td>2017-02-04</td>\n",
              "      <td>1486166400</td>\n",
              "      <td>0</td>\n",
              "      <td>3</td>\n",
              "      <td>0</td>\n",
              "    </tr>\n",
              "    <tr>\n",
              "      <th>3</th>\n",
              "      <td>406370</td>\n",
              "      <td>99999</td>\n",
              "      <td>2017</td>\n",
              "      <td>07</td>\n",
              "      <td>13</td>\n",
              "      <td>101.8</td>\n",
              "      <td>4</td>\n",
              "      <td>55.2</td>\n",
              "      <td>4</td>\n",
              "      <td>997.6</td>\n",
              "      <td>...</td>\n",
              "      <td>0</td>\n",
              "      <td>0</td>\n",
              "      <td>0</td>\n",
              "      <td>38.777778</td>\n",
              "      <td>0.463000</td>\n",
              "      <td>2017-07-13</td>\n",
              "      <td>1499904000</td>\n",
              "      <td>1</td>\n",
              "      <td>4</td>\n",
              "      <td>1</td>\n",
              "    </tr>\n",
              "    <tr>\n",
              "      <th>4</th>\n",
              "      <td>406370</td>\n",
              "      <td>99999</td>\n",
              "      <td>2017</td>\n",
              "      <td>02</td>\n",
              "      <td>27</td>\n",
              "      <td>60.3</td>\n",
              "      <td>4</td>\n",
              "      <td>43.6</td>\n",
              "      <td>4</td>\n",
              "      <td>1018.5</td>\n",
              "      <td>...</td>\n",
              "      <td>0</td>\n",
              "      <td>0</td>\n",
              "      <td>0</td>\n",
              "      <td>15.722222</td>\n",
              "      <td>0.463000</td>\n",
              "      <td>2017-02-27</td>\n",
              "      <td>1488153600</td>\n",
              "      <td>0</td>\n",
              "      <td>5</td>\n",
              "      <td>0</td>\n",
              "    </tr>\n",
              "    <tr>\n",
              "      <th>5</th>\n",
              "      <td>406370</td>\n",
              "      <td>99999</td>\n",
              "      <td>2017</td>\n",
              "      <td>07</td>\n",
              "      <td>25</td>\n",
              "      <td>100.0</td>\n",
              "      <td>4</td>\n",
              "      <td>53.0</td>\n",
              "      <td>4</td>\n",
              "      <td>997.3</td>\n",
              "      <td>...</td>\n",
              "      <td>0</td>\n",
              "      <td>0</td>\n",
              "      <td>0</td>\n",
              "      <td>37.777778</td>\n",
              "      <td>0.463000</td>\n",
              "      <td>2017-07-25</td>\n",
              "      <td>1500940800</td>\n",
              "      <td>1</td>\n",
              "      <td>6</td>\n",
              "      <td>1</td>\n",
              "    </tr>\n",
              "    <tr>\n",
              "      <th>6</th>\n",
              "      <td>406370</td>\n",
              "      <td>99999</td>\n",
              "      <td>2017</td>\n",
              "      <td>08</td>\n",
              "      <td>28</td>\n",
              "      <td>99.6</td>\n",
              "      <td>4</td>\n",
              "      <td>52.5</td>\n",
              "      <td>4</td>\n",
              "      <td>1000.6</td>\n",
              "      <td>...</td>\n",
              "      <td>0</td>\n",
              "      <td>0</td>\n",
              "      <td>0</td>\n",
              "      <td>37.555556</td>\n",
              "      <td>0.463000</td>\n",
              "      <td>2017-08-28</td>\n",
              "      <td>1503878400</td>\n",
              "      <td>1</td>\n",
              "      <td>7</td>\n",
              "      <td>2</td>\n",
              "    </tr>\n",
              "    <tr>\n",
              "      <th>7</th>\n",
              "      <td>406370</td>\n",
              "      <td>99999</td>\n",
              "      <td>2017</td>\n",
              "      <td>11</td>\n",
              "      <td>15</td>\n",
              "      <td>72.1</td>\n",
              "      <td>4</td>\n",
              "      <td>46.8</td>\n",
              "      <td>4</td>\n",
              "      <td>1015.6</td>\n",
              "      <td>...</td>\n",
              "      <td>0</td>\n",
              "      <td>0</td>\n",
              "      <td>0</td>\n",
              "      <td>22.277778</td>\n",
              "      <td>0.463000</td>\n",
              "      <td>2017-11-15</td>\n",
              "      <td>1510704000</td>\n",
              "      <td>0</td>\n",
              "      <td>8</td>\n",
              "      <td>0</td>\n",
              "    </tr>\n",
              "    <tr>\n",
              "      <th>8</th>\n",
              "      <td>406370</td>\n",
              "      <td>99999</td>\n",
              "      <td>2017</td>\n",
              "      <td>10</td>\n",
              "      <td>14</td>\n",
              "      <td>83.2</td>\n",
              "      <td>4</td>\n",
              "      <td>50.6</td>\n",
              "      <td>4</td>\n",
              "      <td>1010.8</td>\n",
              "      <td>...</td>\n",
              "      <td>0</td>\n",
              "      <td>0</td>\n",
              "      <td>0</td>\n",
              "      <td>28.444444</td>\n",
              "      <td>0.463000</td>\n",
              "      <td>2017-10-14</td>\n",
              "      <td>1507939200</td>\n",
              "      <td>0</td>\n",
              "      <td>9</td>\n",
              "      <td>0</td>\n",
              "    </tr>\n",
              "    <tr>\n",
              "      <th>9</th>\n",
              "      <td>406370</td>\n",
              "      <td>99999</td>\n",
              "      <td>2017</td>\n",
              "      <td>12</td>\n",
              "      <td>30</td>\n",
              "      <td>67.6</td>\n",
              "      <td>4</td>\n",
              "      <td>49.4</td>\n",
              "      <td>4</td>\n",
              "      <td>1019.7</td>\n",
              "      <td>...</td>\n",
              "      <td>0</td>\n",
              "      <td>0</td>\n",
              "      <td>0</td>\n",
              "      <td>19.777778</td>\n",
              "      <td>0.463000</td>\n",
              "      <td>2017-12-30</td>\n",
              "      <td>1514592000</td>\n",
              "      <td>0</td>\n",
              "      <td>10</td>\n",
              "      <td>0</td>\n",
              "    </tr>\n",
              "    <tr>\n",
              "      <th>10</th>\n",
              "      <td>406370</td>\n",
              "      <td>99999</td>\n",
              "      <td>2017</td>\n",
              "      <td>01</td>\n",
              "      <td>08</td>\n",
              "      <td>51.0</td>\n",
              "      <td>5</td>\n",
              "      <td>44.7</td>\n",
              "      <td>4</td>\n",
              "      <td>1015.8</td>\n",
              "      <td>...</td>\n",
              "      <td>0</td>\n",
              "      <td>0</td>\n",
              "      <td>0</td>\n",
              "      <td>10.555556</td>\n",
              "      <td>0.463000</td>\n",
              "      <td>2017-01-08</td>\n",
              "      <td>1483833600</td>\n",
              "      <td>0</td>\n",
              "      <td>11</td>\n",
              "      <td>0</td>\n",
              "    </tr>\n",
              "    <tr>\n",
              "      <th>11</th>\n",
              "      <td>406370</td>\n",
              "      <td>99999</td>\n",
              "      <td>2017</td>\n",
              "      <td>12</td>\n",
              "      <td>05</td>\n",
              "      <td>61.4</td>\n",
              "      <td>4</td>\n",
              "      <td>43.7</td>\n",
              "      <td>4</td>\n",
              "      <td>1019.3</td>\n",
              "      <td>...</td>\n",
              "      <td>0</td>\n",
              "      <td>0</td>\n",
              "      <td>0</td>\n",
              "      <td>16.333333</td>\n",
              "      <td>0.463000</td>\n",
              "      <td>2017-12-05</td>\n",
              "      <td>1512432000</td>\n",
              "      <td>0</td>\n",
              "      <td>12</td>\n",
              "      <td>0</td>\n",
              "    </tr>\n",
              "    <tr>\n",
              "      <th>12</th>\n",
              "      <td>406370</td>\n",
              "      <td>99999</td>\n",
              "      <td>2017</td>\n",
              "      <td>08</td>\n",
              "      <td>29</td>\n",
              "      <td>104.8</td>\n",
              "      <td>4</td>\n",
              "      <td>51.2</td>\n",
              "      <td>4</td>\n",
              "      <td>1000.6</td>\n",
              "      <td>...</td>\n",
              "      <td>0</td>\n",
              "      <td>0</td>\n",
              "      <td>0</td>\n",
              "      <td>40.444444</td>\n",
              "      <td>0.463000</td>\n",
              "      <td>2017-08-29</td>\n",
              "      <td>1503964800</td>\n",
              "      <td>1</td>\n",
              "      <td>13</td>\n",
              "      <td>1</td>\n",
              "    </tr>\n",
              "    <tr>\n",
              "      <th>13</th>\n",
              "      <td>406370</td>\n",
              "      <td>99999</td>\n",
              "      <td>2017</td>\n",
              "      <td>04</td>\n",
              "      <td>13</td>\n",
              "      <td>89.9</td>\n",
              "      <td>4</td>\n",
              "      <td>57.5</td>\n",
              "      <td>4</td>\n",
              "      <td>1009.7</td>\n",
              "      <td>...</td>\n",
              "      <td>0</td>\n",
              "      <td>0</td>\n",
              "      <td>0</td>\n",
              "      <td>32.166667</td>\n",
              "      <td>2.520776</td>\n",
              "      <td>2017-04-13</td>\n",
              "      <td>1492041600</td>\n",
              "      <td>0</td>\n",
              "      <td>14</td>\n",
              "      <td>0</td>\n",
              "    </tr>\n",
              "    <tr>\n",
              "      <th>14</th>\n",
              "      <td>406370</td>\n",
              "      <td>99999</td>\n",
              "      <td>2017</td>\n",
              "      <td>08</td>\n",
              "      <td>15</td>\n",
              "      <td>100.3</td>\n",
              "      <td>4</td>\n",
              "      <td>54.1</td>\n",
              "      <td>4</td>\n",
              "      <td>1000.8</td>\n",
              "      <td>...</td>\n",
              "      <td>0</td>\n",
              "      <td>0</td>\n",
              "      <td>0</td>\n",
              "      <td>37.944444</td>\n",
              "      <td>0.463000</td>\n",
              "      <td>2017-08-15</td>\n",
              "      <td>1502755200</td>\n",
              "      <td>1</td>\n",
              "      <td>15</td>\n",
              "      <td>1</td>\n",
              "    </tr>\n",
              "    <tr>\n",
              "      <th>15</th>\n",
              "      <td>406370</td>\n",
              "      <td>99999</td>\n",
              "      <td>2017</td>\n",
              "      <td>05</td>\n",
              "      <td>24</td>\n",
              "      <td>85.3</td>\n",
              "      <td>4</td>\n",
              "      <td>55.4</td>\n",
              "      <td>4</td>\n",
              "      <td>1010.6</td>\n",
              "      <td>...</td>\n",
              "      <td>0</td>\n",
              "      <td>0</td>\n",
              "      <td>0</td>\n",
              "      <td>29.611111</td>\n",
              "      <td>0.463000</td>\n",
              "      <td>2017-05-24</td>\n",
              "      <td>1495584000</td>\n",
              "      <td>0</td>\n",
              "      <td>16</td>\n",
              "      <td>0</td>\n",
              "    </tr>\n",
              "    <tr>\n",
              "      <th>16</th>\n",
              "      <td>406370</td>\n",
              "      <td>99999</td>\n",
              "      <td>2017</td>\n",
              "      <td>08</td>\n",
              "      <td>25</td>\n",
              "      <td>99.6</td>\n",
              "      <td>5</td>\n",
              "      <td>52.1</td>\n",
              "      <td>5</td>\n",
              "      <td>1002.1</td>\n",
              "      <td>...</td>\n",
              "      <td>0</td>\n",
              "      <td>0</td>\n",
              "      <td>0</td>\n",
              "      <td>37.555556</td>\n",
              "      <td>0.463000</td>\n",
              "      <td>2017-08-25</td>\n",
              "      <td>1503619200</td>\n",
              "      <td>1</td>\n",
              "      <td>17</td>\n",
              "      <td>1</td>\n",
              "    </tr>\n",
              "    <tr>\n",
              "      <th>17</th>\n",
              "      <td>406370</td>\n",
              "      <td>99999</td>\n",
              "      <td>2017</td>\n",
              "      <td>09</td>\n",
              "      <td>20</td>\n",
              "      <td>98.4</td>\n",
              "      <td>5</td>\n",
              "      <td>52.4</td>\n",
              "      <td>5</td>\n",
              "      <td>1006.3</td>\n",
              "      <td>...</td>\n",
              "      <td>0</td>\n",
              "      <td>0</td>\n",
              "      <td>0</td>\n",
              "      <td>36.888889</td>\n",
              "      <td>2.520776</td>\n",
              "      <td>2017-09-20</td>\n",
              "      <td>1505865600</td>\n",
              "      <td>1</td>\n",
              "      <td>18</td>\n",
              "      <td>2</td>\n",
              "    </tr>\n",
              "    <tr>\n",
              "      <th>18</th>\n",
              "      <td>406370</td>\n",
              "      <td>99999</td>\n",
              "      <td>2017</td>\n",
              "      <td>04</td>\n",
              "      <td>29</td>\n",
              "      <td>86.8</td>\n",
              "      <td>5</td>\n",
              "      <td>57.8</td>\n",
              "      <td>5</td>\n",
              "      <td>1007.7</td>\n",
              "      <td>...</td>\n",
              "      <td>0</td>\n",
              "      <td>0</td>\n",
              "      <td>0</td>\n",
              "      <td>30.444444</td>\n",
              "      <td>0.463000</td>\n",
              "      <td>2017-04-29</td>\n",
              "      <td>1493424000</td>\n",
              "      <td>0</td>\n",
              "      <td>19</td>\n",
              "      <td>0</td>\n",
              "    </tr>\n",
              "    <tr>\n",
              "      <th>19</th>\n",
              "      <td>406370</td>\n",
              "      <td>99999</td>\n",
              "      <td>2017</td>\n",
              "      <td>11</td>\n",
              "      <td>07</td>\n",
              "      <td>81.0</td>\n",
              "      <td>5</td>\n",
              "      <td>57.0</td>\n",
              "      <td>5</td>\n",
              "      <td>1017.5</td>\n",
              "      <td>...</td>\n",
              "      <td>0</td>\n",
              "      <td>0</td>\n",
              "      <td>0</td>\n",
              "      <td>27.222222</td>\n",
              "      <td>0.463000</td>\n",
              "      <td>2017-11-07</td>\n",
              "      <td>1510012800</td>\n",
              "      <td>0</td>\n",
              "      <td>20</td>\n",
              "      <td>0</td>\n",
              "    </tr>\n",
              "    <tr>\n",
              "      <th>20</th>\n",
              "      <td>406370</td>\n",
              "      <td>99999</td>\n",
              "      <td>2017</td>\n",
              "      <td>10</td>\n",
              "      <td>18</td>\n",
              "      <td>72.9</td>\n",
              "      <td>5</td>\n",
              "      <td>52.1</td>\n",
              "      <td>5</td>\n",
              "      <td>1014.7</td>\n",
              "      <td>...</td>\n",
              "      <td>0</td>\n",
              "      <td>0</td>\n",
              "      <td>0</td>\n",
              "      <td>22.722222</td>\n",
              "      <td>0.463000</td>\n",
              "      <td>2017-10-18</td>\n",
              "      <td>1508284800</td>\n",
              "      <td>0</td>\n",
              "      <td>21</td>\n",
              "      <td>0</td>\n",
              "    </tr>\n",
              "    <tr>\n",
              "      <th>21</th>\n",
              "      <td>406370</td>\n",
              "      <td>99999</td>\n",
              "      <td>2017</td>\n",
              "      <td>07</td>\n",
              "      <td>26</td>\n",
              "      <td>104.4</td>\n",
              "      <td>5</td>\n",
              "      <td>54.8</td>\n",
              "      <td>5</td>\n",
              "      <td>998.3</td>\n",
              "      <td>...</td>\n",
              "      <td>0</td>\n",
              "      <td>0</td>\n",
              "      <td>0</td>\n",
              "      <td>40.222222</td>\n",
              "      <td>0.463000</td>\n",
              "      <td>2017-07-26</td>\n",
              "      <td>1501027200</td>\n",
              "      <td>1</td>\n",
              "      <td>22</td>\n",
              "      <td>1</td>\n",
              "    </tr>\n",
              "    <tr>\n",
              "      <th>22</th>\n",
              "      <td>406370</td>\n",
              "      <td>99999</td>\n",
              "      <td>2017</td>\n",
              "      <td>10</td>\n",
              "      <td>03</td>\n",
              "      <td>88.4</td>\n",
              "      <td>5</td>\n",
              "      <td>49.6</td>\n",
              "      <td>5</td>\n",
              "      <td>1011.1</td>\n",
              "      <td>...</td>\n",
              "      <td>0</td>\n",
              "      <td>0</td>\n",
              "      <td>0</td>\n",
              "      <td>31.333333</td>\n",
              "      <td>0.463000</td>\n",
              "      <td>2017-10-03</td>\n",
              "      <td>1506988800</td>\n",
              "      <td>0</td>\n",
              "      <td>23</td>\n",
              "      <td>0</td>\n",
              "    </tr>\n",
              "    <tr>\n",
              "      <th>23</th>\n",
              "      <td>406370</td>\n",
              "      <td>99999</td>\n",
              "      <td>2017</td>\n",
              "      <td>05</td>\n",
              "      <td>09</td>\n",
              "      <td>87.2</td>\n",
              "      <td>5</td>\n",
              "      <td>52.1</td>\n",
              "      <td>5</td>\n",
              "      <td>1012.9</td>\n",
              "      <td>...</td>\n",
              "      <td>0</td>\n",
              "      <td>0</td>\n",
              "      <td>0</td>\n",
              "      <td>30.666667</td>\n",
              "      <td>1.491888</td>\n",
              "      <td>2017-05-09</td>\n",
              "      <td>1494288000</td>\n",
              "      <td>0</td>\n",
              "      <td>24</td>\n",
              "      <td>0</td>\n",
              "    </tr>\n",
              "    <tr>\n",
              "      <th>24</th>\n",
              "      <td>406370</td>\n",
              "      <td>99999</td>\n",
              "      <td>2017</td>\n",
              "      <td>02</td>\n",
              "      <td>13</td>\n",
              "      <td>53.1</td>\n",
              "      <td>5</td>\n",
              "      <td>48.6</td>\n",
              "      <td>5</td>\n",
              "      <td>1013.9</td>\n",
              "      <td>...</td>\n",
              "      <td>0</td>\n",
              "      <td>0</td>\n",
              "      <td>0</td>\n",
              "      <td>11.722222</td>\n",
              "      <td>0.463000</td>\n",
              "      <td>2017-02-13</td>\n",
              "      <td>1486944000</td>\n",
              "      <td>0</td>\n",
              "      <td>25</td>\n",
              "      <td>0</td>\n",
              "    </tr>\n",
              "    <tr>\n",
              "      <th>25</th>\n",
              "      <td>406370</td>\n",
              "      <td>99999</td>\n",
              "      <td>2017</td>\n",
              "      <td>03</td>\n",
              "      <td>16</td>\n",
              "      <td>59.6</td>\n",
              "      <td>5</td>\n",
              "      <td>50.5</td>\n",
              "      <td>5</td>\n",
              "      <td>1010.5</td>\n",
              "      <td>...</td>\n",
              "      <td>0</td>\n",
              "      <td>0</td>\n",
              "      <td>0</td>\n",
              "      <td>15.333333</td>\n",
              "      <td>0.463000</td>\n",
              "      <td>2017-03-16</td>\n",
              "      <td>1489622400</td>\n",
              "      <td>0</td>\n",
              "      <td>26</td>\n",
              "      <td>0</td>\n",
              "    </tr>\n",
              "    <tr>\n",
              "      <th>26</th>\n",
              "      <td>406370</td>\n",
              "      <td>99999</td>\n",
              "      <td>2017</td>\n",
              "      <td>06</td>\n",
              "      <td>01</td>\n",
              "      <td>84.9</td>\n",
              "      <td>5</td>\n",
              "      <td>48.6</td>\n",
              "      <td>5</td>\n",
              "      <td>1007.8</td>\n",
              "      <td>...</td>\n",
              "      <td>0</td>\n",
              "      <td>0</td>\n",
              "      <td>0</td>\n",
              "      <td>29.388889</td>\n",
              "      <td>1.388999</td>\n",
              "      <td>2017-06-01</td>\n",
              "      <td>1496275200</td>\n",
              "      <td>0</td>\n",
              "      <td>27</td>\n",
              "      <td>0</td>\n",
              "    </tr>\n",
              "    <tr>\n",
              "      <th>27</th>\n",
              "      <td>406370</td>\n",
              "      <td>99999</td>\n",
              "      <td>2017</td>\n",
              "      <td>10</td>\n",
              "      <td>19</td>\n",
              "      <td>76.6</td>\n",
              "      <td>5</td>\n",
              "      <td>51.9</td>\n",
              "      <td>5</td>\n",
              "      <td>1016.5</td>\n",
              "      <td>...</td>\n",
              "      <td>0</td>\n",
              "      <td>0</td>\n",
              "      <td>0</td>\n",
              "      <td>24.777778</td>\n",
              "      <td>0.463000</td>\n",
              "      <td>2017-10-19</td>\n",
              "      <td>1508371200</td>\n",
              "      <td>0</td>\n",
              "      <td>28</td>\n",
              "      <td>0</td>\n",
              "    </tr>\n",
              "    <tr>\n",
              "      <th>28</th>\n",
              "      <td>406370</td>\n",
              "      <td>99999</td>\n",
              "      <td>2017</td>\n",
              "      <td>09</td>\n",
              "      <td>16</td>\n",
              "      <td>94.4</td>\n",
              "      <td>5</td>\n",
              "      <td>51.4</td>\n",
              "      <td>5</td>\n",
              "      <td>1005.6</td>\n",
              "      <td>...</td>\n",
              "      <td>0</td>\n",
              "      <td>0</td>\n",
              "      <td>0</td>\n",
              "      <td>34.666667</td>\n",
              "      <td>0.463000</td>\n",
              "      <td>2017-09-16</td>\n",
              "      <td>1505520000</td>\n",
              "      <td>1</td>\n",
              "      <td>29</td>\n",
              "      <td>1</td>\n",
              "    </tr>\n",
              "    <tr>\n",
              "      <th>29</th>\n",
              "      <td>406370</td>\n",
              "      <td>99999</td>\n",
              "      <td>2017</td>\n",
              "      <td>07</td>\n",
              "      <td>28</td>\n",
              "      <td>106.5</td>\n",
              "      <td>5</td>\n",
              "      <td>56.8</td>\n",
              "      <td>5</td>\n",
              "      <td>999.9</td>\n",
              "      <td>...</td>\n",
              "      <td>0</td>\n",
              "      <td>0</td>\n",
              "      <td>0</td>\n",
              "      <td>41.388889</td>\n",
              "      <td>0.463000</td>\n",
              "      <td>2017-07-28</td>\n",
              "      <td>1501200000</td>\n",
              "      <td>1</td>\n",
              "      <td>30</td>\n",
              "      <td>2</td>\n",
              "    </tr>\n",
              "    <tr>\n",
              "      <th>30</th>\n",
              "      <td>406370</td>\n",
              "      <td>99999</td>\n",
              "      <td>2017</td>\n",
              "      <td>04</td>\n",
              "      <td>03</td>\n",
              "      <td>63.0</td>\n",
              "      <td>5</td>\n",
              "      <td>51.1</td>\n",
              "      <td>5</td>\n",
              "      <td>1015.5</td>\n",
              "      <td>...</td>\n",
              "      <td>0</td>\n",
              "      <td>0</td>\n",
              "      <td>0</td>\n",
              "      <td>17.222222</td>\n",
              "      <td>0.463000</td>\n",
              "      <td>2017-04-03</td>\n",
              "      <td>1491177600</td>\n",
              "      <td>0</td>\n",
              "      <td>31</td>\n",
              "      <td>0</td>\n",
              "    </tr>\n",
              "    <tr>\n",
              "      <th>31</th>\n",
              "      <td>406370</td>\n",
              "      <td>99999</td>\n",
              "      <td>2017</td>\n",
              "      <td>03</td>\n",
              "      <td>14</td>\n",
              "      <td>62.0</td>\n",
              "      <td>5</td>\n",
              "      <td>49.9</td>\n",
              "      <td>5</td>\n",
              "      <td>1016.4</td>\n",
              "      <td>...</td>\n",
              "      <td>0</td>\n",
              "      <td>0</td>\n",
              "      <td>0</td>\n",
              "      <td>16.666667</td>\n",
              "      <td>2.006332</td>\n",
              "      <td>2017-03-14</td>\n",
              "      <td>1489449600</td>\n",
              "      <td>0</td>\n",
              "      <td>32</td>\n",
              "      <td>0</td>\n",
              "    </tr>\n",
              "    <tr>\n",
              "      <th>32</th>\n",
              "      <td>406370</td>\n",
              "      <td>99999</td>\n",
              "      <td>2017</td>\n",
              "      <td>08</td>\n",
              "      <td>31</td>\n",
              "      <td>103.8</td>\n",
              "      <td>5</td>\n",
              "      <td>52.7</td>\n",
              "      <td>5</td>\n",
              "      <td>1001.6</td>\n",
              "      <td>...</td>\n",
              "      <td>0</td>\n",
              "      <td>0</td>\n",
              "      <td>0</td>\n",
              "      <td>39.888889</td>\n",
              "      <td>0.463000</td>\n",
              "      <td>2017-08-31</td>\n",
              "      <td>1504137600</td>\n",
              "      <td>1</td>\n",
              "      <td>33</td>\n",
              "      <td>1</td>\n",
              "    </tr>\n",
              "    <tr>\n",
              "      <th>33</th>\n",
              "      <td>406370</td>\n",
              "      <td>99999</td>\n",
              "      <td>2017</td>\n",
              "      <td>11</td>\n",
              "      <td>29</td>\n",
              "      <td>57.6</td>\n",
              "      <td>5</td>\n",
              "      <td>43.6</td>\n",
              "      <td>5</td>\n",
              "      <td>1021.7</td>\n",
              "      <td>...</td>\n",
              "      <td>0</td>\n",
              "      <td>0</td>\n",
              "      <td>0</td>\n",
              "      <td>14.222222</td>\n",
              "      <td>0.463000</td>\n",
              "      <td>2017-11-29</td>\n",
              "      <td>1511913600</td>\n",
              "      <td>0</td>\n",
              "      <td>34</td>\n",
              "      <td>0</td>\n",
              "    </tr>\n",
              "    <tr>\n",
              "      <th>34</th>\n",
              "      <td>406370</td>\n",
              "      <td>99999</td>\n",
              "      <td>2017</td>\n",
              "      <td>02</td>\n",
              "      <td>17</td>\n",
              "      <td>42.5</td>\n",
              "      <td>5</td>\n",
              "      <td>37.0</td>\n",
              "      <td>5</td>\n",
              "      <td>1017.9</td>\n",
              "      <td>...</td>\n",
              "      <td>0</td>\n",
              "      <td>0</td>\n",
              "      <td>0</td>\n",
              "      <td>5.833333</td>\n",
              "      <td>2.006332</td>\n",
              "      <td>2017-02-17</td>\n",
              "      <td>1487289600</td>\n",
              "      <td>0</td>\n",
              "      <td>35</td>\n",
              "      <td>0</td>\n",
              "    </tr>\n",
              "    <tr>\n",
              "      <th>35</th>\n",
              "      <td>406370</td>\n",
              "      <td>99999</td>\n",
              "      <td>2017</td>\n",
              "      <td>01</td>\n",
              "      <td>07</td>\n",
              "      <td>50.8</td>\n",
              "      <td>5</td>\n",
              "      <td>45.8</td>\n",
              "      <td>5</td>\n",
              "      <td>1019.0</td>\n",
              "      <td>...</td>\n",
              "      <td>0</td>\n",
              "      <td>0</td>\n",
              "      <td>0</td>\n",
              "      <td>10.444444</td>\n",
              "      <td>0.463000</td>\n",
              "      <td>2017-01-07</td>\n",
              "      <td>1483747200</td>\n",
              "      <td>0</td>\n",
              "      <td>36</td>\n",
              "      <td>0</td>\n",
              "    </tr>\n",
              "    <tr>\n",
              "      <th>36</th>\n",
              "      <td>406370</td>\n",
              "      <td>99999</td>\n",
              "      <td>2017</td>\n",
              "      <td>07</td>\n",
              "      <td>02</td>\n",
              "      <td>106.5</td>\n",
              "      <td>5</td>\n",
              "      <td>55.2</td>\n",
              "      <td>5</td>\n",
              "      <td>998.0</td>\n",
              "      <td>...</td>\n",
              "      <td>0</td>\n",
              "      <td>0</td>\n",
              "      <td>0</td>\n",
              "      <td>41.388889</td>\n",
              "      <td>2.726553</td>\n",
              "      <td>2017-07-02</td>\n",
              "      <td>1498953600</td>\n",
              "      <td>1</td>\n",
              "      <td>37</td>\n",
              "      <td>1</td>\n",
              "    </tr>\n",
              "    <tr>\n",
              "      <th>37</th>\n",
              "      <td>406370</td>\n",
              "      <td>99999</td>\n",
              "      <td>2017</td>\n",
              "      <td>08</td>\n",
              "      <td>21</td>\n",
              "      <td>104.0</td>\n",
              "      <td>5</td>\n",
              "      <td>54.9</td>\n",
              "      <td>5</td>\n",
              "      <td>1000.7</td>\n",
              "      <td>...</td>\n",
              "      <td>0</td>\n",
              "      <td>0</td>\n",
              "      <td>0</td>\n",
              "      <td>40.000000</td>\n",
              "      <td>0.463000</td>\n",
              "      <td>2017-08-21</td>\n",
              "      <td>1503273600</td>\n",
              "      <td>1</td>\n",
              "      <td>38</td>\n",
              "      <td>2</td>\n",
              "    </tr>\n",
              "    <tr>\n",
              "      <th>38</th>\n",
              "      <td>406370</td>\n",
              "      <td>99999</td>\n",
              "      <td>2017</td>\n",
              "      <td>05</td>\n",
              "      <td>10</td>\n",
              "      <td>90.5</td>\n",
              "      <td>5</td>\n",
              "      <td>54.2</td>\n",
              "      <td>5</td>\n",
              "      <td>1009.5</td>\n",
              "      <td>...</td>\n",
              "      <td>0</td>\n",
              "      <td>0</td>\n",
              "      <td>0</td>\n",
              "      <td>32.500000</td>\n",
              "      <td>1.800554</td>\n",
              "      <td>2017-05-10</td>\n",
              "      <td>1494374400</td>\n",
              "      <td>1</td>\n",
              "      <td>39</td>\n",
              "      <td>3</td>\n",
              "    </tr>\n",
              "    <tr>\n",
              "      <th>39</th>\n",
              "      <td>406370</td>\n",
              "      <td>99999</td>\n",
              "      <td>2017</td>\n",
              "      <td>11</td>\n",
              "      <td>12</td>\n",
              "      <td>68.3</td>\n",
              "      <td>5</td>\n",
              "      <td>50.6</td>\n",
              "      <td>5</td>\n",
              "      <td>1019.0</td>\n",
              "      <td>...</td>\n",
              "      <td>0</td>\n",
              "      <td>0</td>\n",
              "      <td>0</td>\n",
              "      <td>20.166667</td>\n",
              "      <td>0.463000</td>\n",
              "      <td>2017-11-12</td>\n",
              "      <td>1510444800</td>\n",
              "      <td>0</td>\n",
              "      <td>40</td>\n",
              "      <td>0</td>\n",
              "    </tr>\n",
              "    <tr>\n",
              "      <th>40</th>\n",
              "      <td>406370</td>\n",
              "      <td>99999</td>\n",
              "      <td>2017</td>\n",
              "      <td>02</td>\n",
              "      <td>16</td>\n",
              "      <td>48.1</td>\n",
              "      <td>6</td>\n",
              "      <td>42.6</td>\n",
              "      <td>5</td>\n",
              "      <td>1017.2</td>\n",
              "      <td>...</td>\n",
              "      <td>0</td>\n",
              "      <td>0</td>\n",
              "      <td>0</td>\n",
              "      <td>8.944444</td>\n",
              "      <td>0.463000</td>\n",
              "      <td>2017-02-16</td>\n",
              "      <td>1487203200</td>\n",
              "      <td>0</td>\n",
              "      <td>41</td>\n",
              "      <td>0</td>\n",
              "    </tr>\n",
              "    <tr>\n",
              "      <th>41</th>\n",
              "      <td>406370</td>\n",
              "      <td>99999</td>\n",
              "      <td>2017</td>\n",
              "      <td>12</td>\n",
              "      <td>20</td>\n",
              "      <td>58.9</td>\n",
              "      <td>5</td>\n",
              "      <td>47.8</td>\n",
              "      <td>5</td>\n",
              "      <td>1025.9</td>\n",
              "      <td>...</td>\n",
              "      <td>0</td>\n",
              "      <td>0</td>\n",
              "      <td>0</td>\n",
              "      <td>14.944444</td>\n",
              "      <td>0.463000</td>\n",
              "      <td>2017-12-20</td>\n",
              "      <td>1513728000</td>\n",
              "      <td>0</td>\n",
              "      <td>42</td>\n",
              "      <td>0</td>\n",
              "    </tr>\n",
              "    <tr>\n",
              "      <th>42</th>\n",
              "      <td>406370</td>\n",
              "      <td>99999</td>\n",
              "      <td>2017</td>\n",
              "      <td>07</td>\n",
              "      <td>05</td>\n",
              "      <td>106.4</td>\n",
              "      <td>5</td>\n",
              "      <td>56.7</td>\n",
              "      <td>5</td>\n",
              "      <td>996.6</td>\n",
              "      <td>...</td>\n",
              "      <td>0</td>\n",
              "      <td>0</td>\n",
              "      <td>0</td>\n",
              "      <td>41.333333</td>\n",
              "      <td>0.463000</td>\n",
              "      <td>2017-07-05</td>\n",
              "      <td>1499212800</td>\n",
              "      <td>1</td>\n",
              "      <td>43</td>\n",
              "      <td>1</td>\n",
              "    </tr>\n",
              "    <tr>\n",
              "      <th>43</th>\n",
              "      <td>406370</td>\n",
              "      <td>99999</td>\n",
              "      <td>2017</td>\n",
              "      <td>05</td>\n",
              "      <td>03</td>\n",
              "      <td>83.2</td>\n",
              "      <td>6</td>\n",
              "      <td>58.2</td>\n",
              "      <td>6</td>\n",
              "      <td>1008.9</td>\n",
              "      <td>...</td>\n",
              "      <td>0</td>\n",
              "      <td>0</td>\n",
              "      <td>0</td>\n",
              "      <td>28.444444</td>\n",
              "      <td>2.726553</td>\n",
              "      <td>2017-05-03</td>\n",
              "      <td>1493769600</td>\n",
              "      <td>0</td>\n",
              "      <td>44</td>\n",
              "      <td>0</td>\n",
              "    </tr>\n",
              "    <tr>\n",
              "      <th>44</th>\n",
              "      <td>406370</td>\n",
              "      <td>99999</td>\n",
              "      <td>2017</td>\n",
              "      <td>10</td>\n",
              "      <td>16</td>\n",
              "      <td>78.6</td>\n",
              "      <td>6</td>\n",
              "      <td>52.9</td>\n",
              "      <td>6</td>\n",
              "      <td>1011.2</td>\n",
              "      <td>...</td>\n",
              "      <td>0</td>\n",
              "      <td>0</td>\n",
              "      <td>0</td>\n",
              "      <td>25.888889</td>\n",
              "      <td>0.463000</td>\n",
              "      <td>2017-10-16</td>\n",
              "      <td>1508112000</td>\n",
              "      <td>0</td>\n",
              "      <td>45</td>\n",
              "      <td>0</td>\n",
              "    </tr>\n",
              "    <tr>\n",
              "      <th>45</th>\n",
              "      <td>406370</td>\n",
              "      <td>99999</td>\n",
              "      <td>2017</td>\n",
              "      <td>12</td>\n",
              "      <td>19</td>\n",
              "      <td>63.4</td>\n",
              "      <td>6</td>\n",
              "      <td>43.8</td>\n",
              "      <td>6</td>\n",
              "      <td>1025.2</td>\n",
              "      <td>...</td>\n",
              "      <td>0</td>\n",
              "      <td>0</td>\n",
              "      <td>0</td>\n",
              "      <td>17.444444</td>\n",
              "      <td>0.463000</td>\n",
              "      <td>2017-12-19</td>\n",
              "      <td>1513641600</td>\n",
              "      <td>0</td>\n",
              "      <td>46</td>\n",
              "      <td>0</td>\n",
              "    </tr>\n",
              "    <tr>\n",
              "      <th>46</th>\n",
              "      <td>406370</td>\n",
              "      <td>99999</td>\n",
              "      <td>2017</td>\n",
              "      <td>12</td>\n",
              "      <td>08</td>\n",
              "      <td>51.3</td>\n",
              "      <td>6</td>\n",
              "      <td>40.2</td>\n",
              "      <td>6</td>\n",
              "      <td>1023.6</td>\n",
              "      <td>...</td>\n",
              "      <td>0</td>\n",
              "      <td>0</td>\n",
              "      <td>0</td>\n",
              "      <td>10.722222</td>\n",
              "      <td>0.463000</td>\n",
              "      <td>2017-12-08</td>\n",
              "      <td>1512691200</td>\n",
              "      <td>0</td>\n",
              "      <td>47</td>\n",
              "      <td>0</td>\n",
              "    </tr>\n",
              "    <tr>\n",
              "      <th>47</th>\n",
              "      <td>406370</td>\n",
              "      <td>99999</td>\n",
              "      <td>2017</td>\n",
              "      <td>06</td>\n",
              "      <td>18</td>\n",
              "      <td>99.6</td>\n",
              "      <td>6</td>\n",
              "      <td>56.1</td>\n",
              "      <td>5</td>\n",
              "      <td>1000.9</td>\n",
              "      <td>...</td>\n",
              "      <td>0</td>\n",
              "      <td>0</td>\n",
              "      <td>0</td>\n",
              "      <td>37.555556</td>\n",
              "      <td>0.463000</td>\n",
              "      <td>2017-06-18</td>\n",
              "      <td>1497744000</td>\n",
              "      <td>1</td>\n",
              "      <td>48</td>\n",
              "      <td>1</td>\n",
              "    </tr>\n",
              "    <tr>\n",
              "      <th>48</th>\n",
              "      <td>406370</td>\n",
              "      <td>99999</td>\n",
              "      <td>2017</td>\n",
              "      <td>08</td>\n",
              "      <td>27</td>\n",
              "      <td>98.6</td>\n",
              "      <td>6</td>\n",
              "      <td>52.2</td>\n",
              "      <td>6</td>\n",
              "      <td>999.1</td>\n",
              "      <td>...</td>\n",
              "      <td>0</td>\n",
              "      <td>0</td>\n",
              "      <td>0</td>\n",
              "      <td>37.000000</td>\n",
              "      <td>0.463000</td>\n",
              "      <td>2017-08-27</td>\n",
              "      <td>1503792000</td>\n",
              "      <td>1</td>\n",
              "      <td>49</td>\n",
              "      <td>2</td>\n",
              "    </tr>\n",
              "    <tr>\n",
              "      <th>49</th>\n",
              "      <td>406370</td>\n",
              "      <td>99999</td>\n",
              "      <td>2017</td>\n",
              "      <td>05</td>\n",
              "      <td>01</td>\n",
              "      <td>87.3</td>\n",
              "      <td>6</td>\n",
              "      <td>58.2</td>\n",
              "      <td>6</td>\n",
              "      <td>1009.2</td>\n",
              "      <td>...</td>\n",
              "      <td>0</td>\n",
              "      <td>0</td>\n",
              "      <td>0</td>\n",
              "      <td>30.722222</td>\n",
              "      <td>0.463000</td>\n",
              "      <td>2017-05-01</td>\n",
              "      <td>1493596800</td>\n",
              "      <td>0</td>\n",
              "      <td>50</td>\n",
              "      <td>0</td>\n",
              "    </tr>\n",
              "    <tr>\n",
              "      <th>50</th>\n",
              "      <td>406370</td>\n",
              "      <td>99999</td>\n",
              "      <td>2017</td>\n",
              "      <td>02</td>\n",
              "      <td>28</td>\n",
              "      <td>63.0</td>\n",
              "      <td>6</td>\n",
              "      <td>47.5</td>\n",
              "      <td>6</td>\n",
              "      <td>1020.0</td>\n",
              "      <td>...</td>\n",
              "      <td>0</td>\n",
              "      <td>0</td>\n",
              "      <td>0</td>\n",
              "      <td>17.222222</td>\n",
              "      <td>0.463000</td>\n",
              "      <td>2017-02-28</td>\n",
              "      <td>1488240000</td>\n",
              "      <td>0</td>\n",
              "      <td>51</td>\n",
              "      <td>0</td>\n",
              "    </tr>\n",
              "    <tr>\n",
              "      <th>51</th>\n",
              "      <td>406370</td>\n",
              "      <td>99999</td>\n",
              "      <td>2017</td>\n",
              "      <td>09</td>\n",
              "      <td>30</td>\n",
              "      <td>95.5</td>\n",
              "      <td>6</td>\n",
              "      <td>49.2</td>\n",
              "      <td>6</td>\n",
              "      <td>1007.2</td>\n",
              "      <td>...</td>\n",
              "      <td>0</td>\n",
              "      <td>0</td>\n",
              "      <td>0</td>\n",
              "      <td>35.277778</td>\n",
              "      <td>0.463000</td>\n",
              "      <td>2017-09-30</td>\n",
              "      <td>1506729600</td>\n",
              "      <td>1</td>\n",
              "      <td>52</td>\n",
              "      <td>1</td>\n",
              "    </tr>\n",
              "    <tr>\n",
              "      <th>52</th>\n",
              "      <td>406370</td>\n",
              "      <td>99999</td>\n",
              "      <td>2017</td>\n",
              "      <td>08</td>\n",
              "      <td>07</td>\n",
              "      <td>106.0</td>\n",
              "      <td>6</td>\n",
              "      <td>53.6</td>\n",
              "      <td>6</td>\n",
              "      <td>999.5</td>\n",
              "      <td>...</td>\n",
              "      <td>0</td>\n",
              "      <td>0</td>\n",
              "      <td>0</td>\n",
              "      <td>41.111111</td>\n",
              "      <td>0.463000</td>\n",
              "      <td>2017-08-07</td>\n",
              "      <td>1502064000</td>\n",
              "      <td>1</td>\n",
              "      <td>53</td>\n",
              "      <td>2</td>\n",
              "    </tr>\n",
              "    <tr>\n",
              "      <th>53</th>\n",
              "      <td>406370</td>\n",
              "      <td>99999</td>\n",
              "      <td>2017</td>\n",
              "      <td>11</td>\n",
              "      <td>23</td>\n",
              "      <td>58.2</td>\n",
              "      <td>6</td>\n",
              "      <td>46.6</td>\n",
              "      <td>6</td>\n",
              "      <td>1016.4</td>\n",
              "      <td>...</td>\n",
              "      <td>0</td>\n",
              "      <td>0</td>\n",
              "      <td>0</td>\n",
              "      <td>14.555556</td>\n",
              "      <td>0.463000</td>\n",
              "      <td>2017-11-23</td>\n",
              "      <td>1511395200</td>\n",
              "      <td>0</td>\n",
              "      <td>54</td>\n",
              "      <td>0</td>\n",
              "    </tr>\n",
              "    <tr>\n",
              "      <th>54</th>\n",
              "      <td>406370</td>\n",
              "      <td>99999</td>\n",
              "      <td>2017</td>\n",
              "      <td>03</td>\n",
              "      <td>15</td>\n",
              "      <td>62.4</td>\n",
              "      <td>6</td>\n",
              "      <td>47.5</td>\n",
              "      <td>6</td>\n",
              "      <td>1014.2</td>\n",
              "      <td>...</td>\n",
              "      <td>0</td>\n",
              "      <td>0</td>\n",
              "      <td>0</td>\n",
              "      <td>16.888889</td>\n",
              "      <td>2.006332</td>\n",
              "      <td>2017-03-15</td>\n",
              "      <td>1489536000</td>\n",
              "      <td>0</td>\n",
              "      <td>55</td>\n",
              "      <td>0</td>\n",
              "    </tr>\n",
              "    <tr>\n",
              "      <th>55</th>\n",
              "      <td>406370</td>\n",
              "      <td>99999</td>\n",
              "      <td>2017</td>\n",
              "      <td>03</td>\n",
              "      <td>31</td>\n",
              "      <td>62.7</td>\n",
              "      <td>6</td>\n",
              "      <td>54.2</td>\n",
              "      <td>6</td>\n",
              "      <td>1017.0</td>\n",
              "      <td>...</td>\n",
              "      <td>0</td>\n",
              "      <td>0</td>\n",
              "      <td>0</td>\n",
              "      <td>17.055556</td>\n",
              "      <td>1.491888</td>\n",
              "      <td>2017-03-31</td>\n",
              "      <td>1490918400</td>\n",
              "      <td>0</td>\n",
              "      <td>56</td>\n",
              "      <td>0</td>\n",
              "    </tr>\n",
              "    <tr>\n",
              "      <th>56</th>\n",
              "      <td>406370</td>\n",
              "      <td>99999</td>\n",
              "      <td>2017</td>\n",
              "      <td>07</td>\n",
              "      <td>21</td>\n",
              "      <td>101.8</td>\n",
              "      <td>6</td>\n",
              "      <td>55.7</td>\n",
              "      <td>6</td>\n",
              "      <td>997.9</td>\n",
              "      <td>...</td>\n",
              "      <td>0</td>\n",
              "      <td>0</td>\n",
              "      <td>0</td>\n",
              "      <td>38.777778</td>\n",
              "      <td>0.463000</td>\n",
              "      <td>2017-07-21</td>\n",
              "      <td>1500595200</td>\n",
              "      <td>1</td>\n",
              "      <td>57</td>\n",
              "      <td>1</td>\n",
              "    </tr>\n",
              "    <tr>\n",
              "      <th>57</th>\n",
              "      <td>406370</td>\n",
              "      <td>99999</td>\n",
              "      <td>2017</td>\n",
              "      <td>07</td>\n",
              "      <td>22</td>\n",
              "      <td>107.9</td>\n",
              "      <td>6</td>\n",
              "      <td>57.0</td>\n",
              "      <td>6</td>\n",
              "      <td>997.8</td>\n",
              "      <td>...</td>\n",
              "      <td>0</td>\n",
              "      <td>0</td>\n",
              "      <td>0</td>\n",
              "      <td>42.166667</td>\n",
              "      <td>2.623664</td>\n",
              "      <td>2017-07-22</td>\n",
              "      <td>1500681600</td>\n",
              "      <td>1</td>\n",
              "      <td>58</td>\n",
              "      <td>2</td>\n",
              "    </tr>\n",
              "    <tr>\n",
              "      <th>58</th>\n",
              "      <td>406370</td>\n",
              "      <td>99999</td>\n",
              "      <td>2017</td>\n",
              "      <td>12</td>\n",
              "      <td>29</td>\n",
              "      <td>65.9</td>\n",
              "      <td>6</td>\n",
              "      <td>49.4</td>\n",
              "      <td>6</td>\n",
              "      <td>1022.2</td>\n",
              "      <td>...</td>\n",
              "      <td>0</td>\n",
              "      <td>0</td>\n",
              "      <td>0</td>\n",
              "      <td>18.833333</td>\n",
              "      <td>0.463000</td>\n",
              "      <td>2017-12-29</td>\n",
              "      <td>1514505600</td>\n",
              "      <td>0</td>\n",
              "      <td>59</td>\n",
              "      <td>0</td>\n",
              "    </tr>\n",
              "    <tr>\n",
              "      <th>59</th>\n",
              "      <td>406370</td>\n",
              "      <td>99999</td>\n",
              "      <td>2017</td>\n",
              "      <td>01</td>\n",
              "      <td>23</td>\n",
              "      <td>53.7</td>\n",
              "      <td>6</td>\n",
              "      <td>46.6</td>\n",
              "      <td>6</td>\n",
              "      <td>1022.1</td>\n",
              "      <td>...</td>\n",
              "      <td>0</td>\n",
              "      <td>0</td>\n",
              "      <td>0</td>\n",
              "      <td>12.055556</td>\n",
              "      <td>0.463000</td>\n",
              "      <td>2017-01-23</td>\n",
              "      <td>1485129600</td>\n",
              "      <td>0</td>\n",
              "      <td>60</td>\n",
              "      <td>0</td>\n",
              "    </tr>\n",
              "  </tbody>\n",
              "</table>\n",
              "<p>60 rows × 39 columns</p>\n",
              "</div>\n",
              "    <div class=\"colab-df-buttons\">\n",
              "\n",
              "  <div class=\"colab-df-container\">\n",
              "    <button class=\"colab-df-convert\" onclick=\"convertToInteractive('df-cd85d3a2-a67f-4b02-a4c4-5b2acc4f321a')\"\n",
              "            title=\"Convert this dataframe to an interactive table.\"\n",
              "            style=\"display:none;\">\n",
              "\n",
              "  <svg xmlns=\"http://www.w3.org/2000/svg\" height=\"24px\" viewBox=\"0 -960 960 960\">\n",
              "    <path d=\"M120-120v-720h720v720H120Zm60-500h600v-160H180v160Zm220 220h160v-160H400v160Zm0 220h160v-160H400v160ZM180-400h160v-160H180v160Zm440 0h160v-160H620v160ZM180-180h160v-160H180v160Zm440 0h160v-160H620v160Z\"/>\n",
              "  </svg>\n",
              "    </button>\n",
              "\n",
              "  <style>\n",
              "    .colab-df-container {\n",
              "      display:flex;\n",
              "      gap: 12px;\n",
              "    }\n",
              "\n",
              "    .colab-df-convert {\n",
              "      background-color: #E8F0FE;\n",
              "      border: none;\n",
              "      border-radius: 50%;\n",
              "      cursor: pointer;\n",
              "      display: none;\n",
              "      fill: #1967D2;\n",
              "      height: 32px;\n",
              "      padding: 0 0 0 0;\n",
              "      width: 32px;\n",
              "    }\n",
              "\n",
              "    .colab-df-convert:hover {\n",
              "      background-color: #E2EBFA;\n",
              "      box-shadow: 0px 1px 2px rgba(60, 64, 67, 0.3), 0px 1px 3px 1px rgba(60, 64, 67, 0.15);\n",
              "      fill: #174EA6;\n",
              "    }\n",
              "\n",
              "    .colab-df-buttons div {\n",
              "      margin-bottom: 4px;\n",
              "    }\n",
              "\n",
              "    [theme=dark] .colab-df-convert {\n",
              "      background-color: #3B4455;\n",
              "      fill: #D2E3FC;\n",
              "    }\n",
              "\n",
              "    [theme=dark] .colab-df-convert:hover {\n",
              "      background-color: #434B5C;\n",
              "      box-shadow: 0px 1px 3px 1px rgba(0, 0, 0, 0.15);\n",
              "      filter: drop-shadow(0px 1px 2px rgba(0, 0, 0, 0.3));\n",
              "      fill: #FFFFFF;\n",
              "    }\n",
              "  </style>\n",
              "\n",
              "    <script>\n",
              "      const buttonEl =\n",
              "        document.querySelector('#df-cd85d3a2-a67f-4b02-a4c4-5b2acc4f321a button.colab-df-convert');\n",
              "      buttonEl.style.display =\n",
              "        google.colab.kernel.accessAllowed ? 'block' : 'none';\n",
              "\n",
              "      async function convertToInteractive(key) {\n",
              "        const element = document.querySelector('#df-cd85d3a2-a67f-4b02-a4c4-5b2acc4f321a');\n",
              "        const dataTable =\n",
              "          await google.colab.kernel.invokeFunction('convertToInteractive',\n",
              "                                                    [key], {});\n",
              "        if (!dataTable) return;\n",
              "\n",
              "        const docLinkHtml = 'Like what you see? Visit the ' +\n",
              "          '<a target=\"_blank\" href=https://colab.research.google.com/notebooks/data_table.ipynb>data table notebook</a>'\n",
              "          + ' to learn more about interactive tables.';\n",
              "        element.innerHTML = '';\n",
              "        dataTable['output_type'] = 'display_data';\n",
              "        await google.colab.output.renderOutput(dataTable, element);\n",
              "        const docLink = document.createElement('div');\n",
              "        docLink.innerHTML = docLinkHtml;\n",
              "        element.appendChild(docLink);\n",
              "      }\n",
              "    </script>\n",
              "  </div>\n",
              "\n",
              "\n",
              "<div id=\"df-e26cf0d5-0cc0-47a1-8c9f-a2222c52d7e1\">\n",
              "  <button class=\"colab-df-quickchart\" onclick=\"quickchart('df-e26cf0d5-0cc0-47a1-8c9f-a2222c52d7e1')\"\n",
              "            title=\"Suggest charts\"\n",
              "            style=\"display:none;\">\n",
              "\n",
              "<svg xmlns=\"http://www.w3.org/2000/svg\" height=\"24px\"viewBox=\"0 0 24 24\"\n",
              "     width=\"24px\">\n",
              "    <g>\n",
              "        <path d=\"M19 3H5c-1.1 0-2 .9-2 2v14c0 1.1.9 2 2 2h14c1.1 0 2-.9 2-2V5c0-1.1-.9-2-2-2zM9 17H7v-7h2v7zm4 0h-2V7h2v10zm4 0h-2v-4h2v4z\"/>\n",
              "    </g>\n",
              "</svg>\n",
              "  </button>\n",
              "\n",
              "<style>\n",
              "  .colab-df-quickchart {\n",
              "      --bg-color: #E8F0FE;\n",
              "      --fill-color: #1967D2;\n",
              "      --hover-bg-color: #E2EBFA;\n",
              "      --hover-fill-color: #174EA6;\n",
              "      --disabled-fill-color: #AAA;\n",
              "      --disabled-bg-color: #DDD;\n",
              "  }\n",
              "\n",
              "  [theme=dark] .colab-df-quickchart {\n",
              "      --bg-color: #3B4455;\n",
              "      --fill-color: #D2E3FC;\n",
              "      --hover-bg-color: #434B5C;\n",
              "      --hover-fill-color: #FFFFFF;\n",
              "      --disabled-bg-color: #3B4455;\n",
              "      --disabled-fill-color: #666;\n",
              "  }\n",
              "\n",
              "  .colab-df-quickchart {\n",
              "    background-color: var(--bg-color);\n",
              "    border: none;\n",
              "    border-radius: 50%;\n",
              "    cursor: pointer;\n",
              "    display: none;\n",
              "    fill: var(--fill-color);\n",
              "    height: 32px;\n",
              "    padding: 0;\n",
              "    width: 32px;\n",
              "  }\n",
              "\n",
              "  .colab-df-quickchart:hover {\n",
              "    background-color: var(--hover-bg-color);\n",
              "    box-shadow: 0 1px 2px rgba(60, 64, 67, 0.3), 0 1px 3px 1px rgba(60, 64, 67, 0.15);\n",
              "    fill: var(--button-hover-fill-color);\n",
              "  }\n",
              "\n",
              "  .colab-df-quickchart-complete:disabled,\n",
              "  .colab-df-quickchart-complete:disabled:hover {\n",
              "    background-color: var(--disabled-bg-color);\n",
              "    fill: var(--disabled-fill-color);\n",
              "    box-shadow: none;\n",
              "  }\n",
              "\n",
              "  .colab-df-spinner {\n",
              "    border: 2px solid var(--fill-color);\n",
              "    border-color: transparent;\n",
              "    border-bottom-color: var(--fill-color);\n",
              "    animation:\n",
              "      spin 1s steps(1) infinite;\n",
              "  }\n",
              "\n",
              "  @keyframes spin {\n",
              "    0% {\n",
              "      border-color: transparent;\n",
              "      border-bottom-color: var(--fill-color);\n",
              "      border-left-color: var(--fill-color);\n",
              "    }\n",
              "    20% {\n",
              "      border-color: transparent;\n",
              "      border-left-color: var(--fill-color);\n",
              "      border-top-color: var(--fill-color);\n",
              "    }\n",
              "    30% {\n",
              "      border-color: transparent;\n",
              "      border-left-color: var(--fill-color);\n",
              "      border-top-color: var(--fill-color);\n",
              "      border-right-color: var(--fill-color);\n",
              "    }\n",
              "    40% {\n",
              "      border-color: transparent;\n",
              "      border-right-color: var(--fill-color);\n",
              "      border-top-color: var(--fill-color);\n",
              "    }\n",
              "    60% {\n",
              "      border-color: transparent;\n",
              "      border-right-color: var(--fill-color);\n",
              "    }\n",
              "    80% {\n",
              "      border-color: transparent;\n",
              "      border-right-color: var(--fill-color);\n",
              "      border-bottom-color: var(--fill-color);\n",
              "    }\n",
              "    90% {\n",
              "      border-color: transparent;\n",
              "      border-bottom-color: var(--fill-color);\n",
              "    }\n",
              "  }\n",
              "</style>\n",
              "\n",
              "  <script>\n",
              "    async function quickchart(key) {\n",
              "      const quickchartButtonEl =\n",
              "        document.querySelector('#' + key + ' button');\n",
              "      quickchartButtonEl.disabled = true;  // To prevent multiple clicks.\n",
              "      quickchartButtonEl.classList.add('colab-df-spinner');\n",
              "      try {\n",
              "        const charts = await google.colab.kernel.invokeFunction(\n",
              "            'suggestCharts', [key], {});\n",
              "      } catch (error) {\n",
              "        console.error('Error during call to suggestCharts:', error);\n",
              "      }\n",
              "      quickchartButtonEl.classList.remove('colab-df-spinner');\n",
              "      quickchartButtonEl.classList.add('colab-df-quickchart-complete');\n",
              "    }\n",
              "    (() => {\n",
              "      let quickchartButtonEl =\n",
              "        document.querySelector('#df-e26cf0d5-0cc0-47a1-8c9f-a2222c52d7e1 button');\n",
              "      quickchartButtonEl.style.display =\n",
              "        google.colab.kernel.accessAllowed ? 'block' : 'none';\n",
              "    })();\n",
              "  </script>\n",
              "</div>\n",
              "    </div>\n",
              "  </div>\n"
            ]
          },
          "metadata": {},
          "execution_count": 61
        }
      ]
    },
    {
      "cell_type": "markdown",
      "source": [
        "Check your answer on May 2018 for Station 406370 visually! Plot your raw temperature on one graph (as you see below) and plot your cumulative sum above a threshold on another graph. Then visually compare to make sure you solved it correctly. You can use a Pandas UDF only (hint: look at Chapters 8 and 9) and/or you can cleverly combine it with a Window function.\n",
        "\n",
        "**CHECK YOUR WORK!!!**"
      ],
      "metadata": {
        "id": "qpsKRmWp_hpG"
      }
    },
    {
      "cell_type": "code",
      "source": [
        "#plotting the raw temperature\n",
        "gd = consec.loc[(consec['mo'] == '05') & (consec['year'] == '2018') & (consec['stn'] == '406370')]\n",
        "\n",
        "gd['temp'].plot(x = 'dt', y = 'temp')\n",
        "plt.show()"
      ],
      "metadata": {
        "colab": {
          "base_uri": "https://localhost:8080/",
          "height": 430
        },
        "id": "W4ZNqsjn-EOh",
        "outputId": "fe2333c0-4d78-445b-ba56-0bb696c42044"
      },
      "execution_count": 62,
      "outputs": [
        {
          "output_type": "display_data",
          "data": {
            "text/plain": [
              "<Figure size 640x480 with 1 Axes>"
            ],
            "image/png": "[encoded data removed]"
          },
          "metadata": {}
        }
      ]
    },
    {
      "cell_type": "code",
      "source": [
        "# plotting the consecutive temperature\n",
        "gd.plot(x = 'dt', y = 'consec_temp')\n",
        "plt.xticks(rotation = 45)\n",
        "plt.show()"
      ],
      "metadata": {
        "colab": {
          "base_uri": "https://localhost:8080/",
          "height": 502
        },
        "id": "Iwib9AOC-KzH",
        "outputId": "be5e582e-6b4e-4384-aead-ed716bb30684"
      },
      "execution_count": 63,
      "outputs": [
        {
          "output_type": "display_data",
          "data": {
            "text/plain": [
              "<Figure size 640x480 with 1 Axes>"
            ],
            "image/png": "[encoded data removed]"
          },
          "metadata": {}
        }
      ]
    },
    {
      "cell_type": "code",
      "source": [
        "gd['dt'] = pd.to_datetime(gd['dt'])\n",
        "\n",
        "gd.plot(x = 'dt', y = ['temp', 'consec_temp'])\n",
        "plt.show()"
      ],
      "metadata": {
        "colab": {
          "base_uri": "https://localhost:8080/",
          "height": 568
        },
        "id": "D_jCu9yqDQiP",
        "outputId": "4a4c5781-970b-4250-a0f8-10a65697374e"
      },
      "execution_count": 64,
      "outputs": [
        {
          "output_type": "stream",
          "name": "stderr",
          "text": [
            "<ipython-input-64-85141c4edd8a>:1: SettingWithCopyWarning: \n",
            "A value is trying to be set on a copy of a slice from a DataFrame.\n",
            "Try using .loc[row_indexer,col_indexer] = value instead\n",
            "\n",
            "See the caveats in the documentation: https://pandas.pydata.org/pandas-docs/stable/user_guide/indexing.html#returning-a-view-versus-a-copy\n",
            "  gd['dt'] = pd.to_datetime(gd['dt'])\n"
          ]
        },
        {
          "output_type": "display_data",
          "data": {
            "text/plain": [
              "<Figure size 640x480 with 1 Axes>"
            ],
            "image/png": "[encoded data removed]"
          },
          "metadata": {}
        }
      ]
    },
    {
      "cell_type": "markdown",
      "metadata": {
        "id": "SW6owh6M_2x2"
      },
      "source": [
        "No need to apply to all stations in GSOD if it takes too long - just use your sample from stn == 406370."
      ]
    }
  ],
  "metadata": {
    "colab": {
      "toc_visible": true,
      "provenance": []
    },
    "kernelspec": {
      "display_name": "Python 3",
      "name": "python3"
    },
    "language_info": {
      "name": "python"
    }
  },
  "nbformat": 4,
  "nbformat_minor": 0
}